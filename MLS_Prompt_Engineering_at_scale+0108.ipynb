{
    "metadata": {
        "kernelspec": {
            "name": "python3",
            "display_name": "Python 3",
            "language": "python"
        },
        "language_info": {
            "name": "python",
            "version": "3.8.10",
            "mimetype": "text/x-python",
            "codemirror_mode": {
                "name": "ipython",
                "version": 3
            },
            "pygments_lexer": "ipython3",
            "nbconvert_exporter": "python",
            "file_extension": ".py"
        },
        "colab": {
            "collapsed_sections": [
                "jRRgiY2nV0nj",
                "8mEMF8Z2VgDL",
                "vdLOQCy8VgDM",
                "snC_DtwYzMIu",
                "dvHZ6wlQzgDx",
                "QqK0gVYJzaO1",
                "pvzyyWzZJiWB"
            ],
            "provenance": []
        }
    },
    "nbformat_minor": 2,
    "nbformat": 4,
    "cells": [
        {
            "cell_type": "markdown",
            "source": [
                "<a href=\"https://colab.research.google.com/github/pgurazada/prompt-engineering/blob/main/prompt-engineering-with-azure.ipynb\" target=\"_parent\"><img src=\"https://colab.research.google.com/assets/colab-badge.svg\" alt=\"Open In Colab\"/></a>"
            ],
            "metadata": {
                "id": "view-in-github",
                "azdata_cell_guid": "fabb95ac-8ff8-4925-a635-69d83872c2f7"
            }
        },
        {
            "cell_type": "markdown",
            "source": [
                "<center>\n",
                "\n",
                "![image.png](data:image/png;base64,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)\n",
                "</center>"
            ],
            "metadata": {
                "id": "adF0zOqO2eMh",
                "azdata_cell_guid": "88b48525-531f-481f-956d-84910aa0e1e2"
            }
        },
        {
            "cell_type": "markdown",
            "source": [
                "# Business Case Study -  Khanmigo!"
            ],
            "metadata": {
                "id": "RJaa2AhDVgDF",
                "azdata_cell_guid": "5f6ff2eb-caf0-405c-89a2-f417d59eb5e6"
            }
        },
        {
            "cell_type": "markdown",
            "source": [
                "Khanmigo is an AI-powered tool from Khan Academy that they call \"Tutor for learners. Assistant for teachers.” It provides personalized learning experiences for students. It offers guidance to students on math, science, and humanities problems, a debate tool, and a writing tutor. It can support teachers in several tasks, like a teaching assistant.\n",
                "\n",
                "Today, we are going to replicate some of the features of Khanmigo using prompting techniques we have learnt so far. We are going to focus on select features of Khanmigo that are developed to help teachers.\n",
                "\n",
                "We will step into the shoes of developers who have built these features for Khanmigo."
            ],
            "metadata": {
                "id": "Co9B48xzVgDI",
                "azdata_cell_guid": "ae9ac05d-1fb4-48ec-a93d-4d3a6637b73e"
            }
        },
        {
            "cell_type": "markdown",
            "source": [
                "## Journey of a Teacher"
            ],
            "metadata": {
                "id": "idpLT_8jml_7",
                "azdata_cell_guid": "756f26ac-9971-4370-a1ea-787ff4655147"
            }
        },
        {
            "cell_type": "markdown",
            "source": [
                "To Develop features that a teacher would require, we need to empathise with the teacher. So, Let's jump into the shoes of a teacher. Let's say Our first assignment is to teach about Newton's third law of motion to grade 8 students. Below is the lesson material provided by our institution.\n",
                "\n",
                "**Lesson Material:**\n",
                "\n",
                "Title: Understanding Newton's Third Law: Action and Reaction\n",
                "\n",
                "**Objective:**\n",
                "By the end of this lesson, students will be able to:\n",
                "\n",
                "1. Define Newton's Third Law of Motion.\n",
                "2. Identify action and reaction force pairs in various scenarios.\n",
                "3. Explain real-life applications of Newton's Third Law.\n",
                "\n",
                "**Body:**\n",
                "\n",
                "**1. What is Newton's Third Law?**\n",
                "   - Explain that Newton's Third Law states: \"For every action, there is an equal and opposite reaction.\"\n",
                "   - Break down the meaning of this law: when one object exerts a force on a second object, the second object exerts a force of equal magnitude in the opposite direction on the first object.\n",
                "\n",
                "**2. Action and Reaction Pairs:**\n",
                "   - Provide examples and ask students to identify the action and reaction force pairs in each scenario. Examples could include:\n",
                "     - A person pushing against a wall.\n",
                "     - A ball bouncing off the ground.\n",
                "     - A swimmer pushing against the water.\n",
                "   - Encourage students to think about the forces involved and how they act on different objects.\n",
                "\n",
                "**3. Real-Life Applications:**\n",
                "   - Discuss real-life examples where Newton's Third Law is at play, such as:\n",
                "     - Rocket propulsion: The action force is the expulsion of gas from the rocket engines, and the reaction force is the resulting upward movement of the rocket.\n",
                "     - Walking: Each step involves pushing against the ground, which pushes back with an equal force, propelling the person forward.\n",
                "     - Driving a car: The tires push against the road, and the road pushes back, propelling the car forward.\n",
                "   - Encourage students to brainstorm other examples they encounter in daily life.\n",
                "   \n",
                "**Conclusion:**\n",
                "Review the key points of the lesson:\n",
                "- Newton's Third Law states that for every action, there is an equal and opposite reaction.\n",
                "- Action and reaction force pairs exist in all interactions between objects.\n",
                "- Understanding Newton's Third Law helps us explain and predict motion in the world around us.\n",
                "\n",
                "**Assessment:**\n",
                "Conduct a short quiz or discussion to assess students' understanding of Newton's Third Law and their ability to identify action and reaction force pairs in different scenarios. Encourage students to ask questions if they need further clarification.\n",
                "\n",
                "**Extension:**\n",
                "Challenge students to research and present on advanced applications of Newton's Third Law, such as in sports, engineering, or space exploration. This can deepen their understanding and appreciation of the concept."
            ],
            "metadata": {
                "id": "LwZiktOBmtE9",
                "azdata_cell_guid": "6e6cd86e-e4fd-41f7-8ed7-a225e53c9690"
            }
        },
        {
            "cell_type": "markdown",
            "source": [
                "\n",
                "\n",
                "---\n",
                "\n",
                "\n",
                "This is good foundational material but this alone doesn't provide great learning experience. One of the first things a good learning experience requires is a lesson hook.\n",
                "\n",
                "A lesson hook is a tool used by teacher to grab students' attention and maintaining their engagement, providing a gateway into the lesson's content.\n",
                "\n",
                "A lesson hook can take various forms, such as a question, activity, game, story, or compelling analogy. Each topic can be approached and explained from diverse angles. An effective lesson hook not only seizes attention but also makes the subject matter relevant to students' lives, sparking curiosity and fostering a desire to delve deeper into the topic.\n",
                "\n",
                "However, brainstorming lesson hooks for each topic can be overwhelming, particularly when dealing with multiple classes or classes with varying cognitive levels. Leveraging Language Models (LLMs), teachers can swiftly generate ideas tailored to the topic and cognitive level. Additionally, incorporating students' interests and hobbies can further enhance the relevance and relatability of the lesson hooks.\n",
                "\n",
                "\n",
                "---\n",
                "\n"
            ],
            "metadata": {
                "id": "R46hb_Rnp-Xi",
                "azdata_cell_guid": "756de591-6faa-4fe1-8139-857464848bc4"
            }
        },
        {
            "cell_type": "markdown",
            "source": [
                "So, the first feature of our app should be a 'lesson hook creator'. Before we dive into building that, let's set up our environment."
            ],
            "metadata": {
                "id": "-qSpROMTqjEj",
                "azdata_cell_guid": "b24ff991-d2e1-4272-ae7b-5ba3e545648c"
            }
        },
        {
            "cell_type": "markdown",
            "source": [
                "## Setup"
            ],
            "metadata": {
                "id": "vTQLyYtNVgDL",
                "azdata_cell_guid": "8f59f771-ca5f-4c9c-84c6-d6832274cb67"
            }
        },
        {
            "cell_type": "markdown",
            "source": [
                "### Installation\n",
                "\n",
                "Since Colab instances are not persistent, for each session, we need to install the packages required for the session each time a new session is started.\n"
            ],
            "metadata": {
                "id": "jRRgiY2nV0nj",
                "azdata_cell_guid": "5e3df760-10ac-43d4-84d7-cba5cce2816f"
            }
        },
        {
            "cell_type": "code",
            "source": [
                "!pip install openai==1.2 tiktoken==0.6 session-info --quiet"
            ],
            "metadata": {
                "colab": {
                    "base_uri": "https://localhost:8080/"
                },
                "id": "96gzi7R2Vz_H",
                "outputId": "724d0467-9634-4a82-fe7c-00c9885bfb42",
                "azdata_cell_guid": "20365e56-8ff0-4cb9-82b3-9c0e0d79aab6",
                "language": "python"
            },
            "outputs": [
                {
                    "output_type": "stream",
                    "name": "stdout",
                    "text": "\u001b[2K     \u001b[90m━━━━━━━━━━━━━━━━━━━━━━━━━━━━━━━━━━━━━━━━\u001b[0m \u001b[32m219.9/219.9 kB\u001b[0m \u001b[31m1.8 MB/s\u001b[0m eta \u001b[36m0:00:00\u001b[0m\n\u001b[2K     \u001b[90m━━━━━━━━━━━━━━━━━━━━━━━━━━━━━━━━━━━━━━━━\u001b[0m \u001b[32m1.8/1.8 MB\u001b[0m \u001b[31m11.6 MB/s\u001b[0m eta \u001b[36m0:00:00\u001b[0m\n\u001b[?25h  Preparing metadata (setup.py) ... \u001b[?25l\u001b[?25hdone\n\u001b[2K     \u001b[90m━━━━━━━━━━━━━━━━━━━━━━━━━━━━━━━━━━━━━━━━\u001b[0m \u001b[32m75.6/75.6 kB\u001b[0m \u001b[31m5.5 MB/s\u001b[0m eta \u001b[36m0:00:00\u001b[0m\n\u001b[2K     \u001b[90m━━━━━━━━━━━━━━━━━━━━━━━━━━━━━━━━━━━━━━━━\u001b[0m \u001b[32m79.8/79.8 kB\u001b[0m \u001b[31m6.3 MB/s\u001b[0m eta \u001b[36m0:00:00\u001b[0m\n\u001b[2K     \u001b[90m━━━━━━━━━━━━━━━━━━━━━━━━━━━━━━━━━━━━━━━━\u001b[0m \u001b[32m77.9/77.9 kB\u001b[0m \u001b[31m5.8 MB/s\u001b[0m eta \u001b[36m0:00:00\u001b[0m\n\u001b[2K     \u001b[90m━━━━━━━━━━━━━━━━━━━━━━━━━━━━━━━━━━━━━━━━\u001b[0m \u001b[32m58.3/58.3 kB\u001b[0m \u001b[31m3.7 MB/s\u001b[0m eta \u001b[36m0:00:00\u001b[0m\n\u001b[?25h  Building wheel for session-info (setup.py) ... \u001b[?25l\u001b[?25hdone\n"
                }
            ],
            "execution_count": 1
        },
        {
            "cell_type": "markdown",
            "source": [
                "### Imports"
            ],
            "metadata": {
                "id": "8mEMF8Z2VgDL",
                "azdata_cell_guid": "7994d886-3195-487b-a886-346b5f27a7f3"
            }
        },
        {
            "cell_type": "code",
            "source": [
                "# Import all Python packages required to access the Azure Open AI API\n",
                "import json\n",
                "import tiktoken\n",
                "import session_info\n",
                "\n",
                "from openai import AzureOpenAI"
            ],
            "metadata": {
                "id": "ed3kbB7nVgDL",
                "azdata_cell_guid": "a27ce043-59c7-46a7-896f-266694733b62",
                "language": "python"
            },
            "outputs": [],
            "execution_count": 2
        },
        {
            "cell_type": "markdown",
            "source": [
                "### Authentication"
            ],
            "metadata": {
                "id": "vdLOQCy8VgDM",
                "azdata_cell_guid": "37c641c4-0f97-4fb5-b2ea-f6ca08d4eaae"
            }
        },
        {
            "cell_type": "markdown",
            "source": [
                "In order to be abe to authenticate our identity and programmatically access the Azure Open AI API from Google Colab, we need to read our credentials into the Colab environment in a secure way.\n",
                "\n",
                "A strongly recommended method to do this is to write credentials to a `json` file that is read during execution of a Colab session. Do not save keys in a public repository."
            ],
            "metadata": {
                "id": "OmkaXJAXVgDM",
                "azdata_cell_guid": "7143edff-633c-466d-91d8-23c4af5d9f22"
            }
        },
        {
            "cell_type": "code",
            "source": [
                "# Azure Open AI redentials and the id of the deployed chat model are stored as\n",
                "# key value pairs in a json file\n",
                "\n",
                "with open('config_v1_2.json', 'r') as az_creds:\n",
                "    data = az_creds.read()"
            ],
            "metadata": {
                "id": "VGdFtTq5VgDO",
                "azdata_cell_guid": "a08a523e-a61b-46f6-a26a-6845f0fc831e",
                "language": "python"
            },
            "outputs": [],
            "execution_count": 17
        },
        {
            "cell_type": "code",
            "source": [
                "creds = json.loads(data)"
            ],
            "metadata": {
                "id": "32YnDerNVgDO",
                "azdata_cell_guid": "e47d44eb-5cc2-4305-8c83-d717573514bd",
                "language": "python"
            },
            "outputs": [],
            "execution_count": 18
        },
        {
            "cell_type": "code",
            "source": [
                "# Credentials to authenticate to the personalized Open AI model server\n",
                "\n",
                "client = AzureOpenAI(\n",
                "    azure_endpoint=creds[\"AZURE_OPENAI_ENDPOINT\"],\n",
                "    api_key=creds[\"AZURE_OPENAI_KEY\"],\n",
                "    api_version=creds[\"AZURE_OPENAI_APIVERSION\"]\n",
                ")"
            ],
            "metadata": {
                "id": "yp_CJP9dSBNp",
                "azdata_cell_guid": "a11407e4-cea8-4337-ab48-b43165fd7b70",
                "language": "python"
            },
            "outputs": [],
            "execution_count": 19
        },
        {
            "cell_type": "code",
            "source": [
                "# Deployment namre of the ChatCompletion endpoint\n",
                "CHATGPT_MODEL = creds[\"CHATGPT_MODEL\"]"
            ],
            "metadata": {
                "id": "oSm0bn6dVgDO",
                "azdata_cell_guid": "be9fc2c1-95c3-42d2-aa74-482930796e85",
                "language": "python"
            },
            "outputs": [],
            "execution_count": 20
        },
        {
            "cell_type": "markdown",
            "source": [
                "## 1 Creating a Lesson Hook"
            ],
            "metadata": {
                "id": "EomRmotyuLIF",
                "azdata_cell_guid": "a14d6f0a-3120-4528-bc44-21a8aa14a3bc"
            }
        },
        {
            "cell_type": "markdown",
            "source": [
                "**What Does a Lesson Hook Accomplish?**\n",
                "\n",
                "**Grabbing Attention:** A hook immediately captures students' attention and focuses their minds on the lesson at hand.\n",
                "\n",
                "**Generating Curiosity:** It piques students' curiosity and encourages them to want to learn more about the topic.\n",
                "\n",
                "**Creating Relevance:** By relating the lesson to students' lives or interests, a hook makes the material more relevant and meaningful to them.\n",
                "\n",
                "**Building Enthusiasm:** A well-executed hook creates excitement and enthusiasm for learning, motivating students to actively participate in the lesson.\n",
                "\n",
                "**Establishing Connection:** It establishes a connection between the students and the lesson content, laying the foundation for deeper understanding and engagement.\n",
                "\n",
                "In summary, a lesson hook is a powerful tool for engaging students, generating interest, and setting the stage for effective learning. It captures attention, fosters curiosity, and makes the lesson content relevant and meaningful to students, ultimately leading to greater retention and understanding."
            ],
            "metadata": {
                "id": "ptA_2Y_NuQ6_",
                "azdata_cell_guid": "d2954f85-e2f5-4e17-b061-0af57a546a1a"
            }
        },
        {
            "cell_type": "markdown",
            "source": [
                "We will get the LLM to output multiple potent lesson hooks out of which teachers will pick a lesson hook that works best for them based on their audience and resources available to them.\n",
                "\n",
                "---\n",
                "\n",
                "\n",
                "We need to create a prompt that can get a lesson hook from the LLM given a topic. Of the three prompting techniques we learnt, what do you think is the best prompting technique for this purpose?\n",
                "\n",
                "Let's try one by one and see what works best. You are encouraged to suggest modifications to the prompts.\n",
                "\n",
                "---\n",
                "\n"
            ],
            "metadata": {
                "id": "R0KR_CkhvpDd",
                "azdata_cell_guid": "5f769c9a-32fc-4990-8628-f3c618ecbf36"
            }
        },
        {
            "cell_type": "markdown",
            "source": [
                "### 1.1 Zero-Shot"
            ],
            "metadata": {
                "id": "Ln5Pr5aIv9-D",
                "azdata_cell_guid": "5bfd47fe-92aa-45f6-86d0-800615d04c97"
            }
        },
        {
            "cell_type": "code",
            "source": [
                "zero_shot_prompt = \"\"\"Create a list of 3-5 engaging lesson hooks for a  lesson keeping in mind the grade of the students.\n",
                "The hooks should be designed to capture students' attention and interest at the start of the lesson.\n",
                "Consider the developmental needs and interests of students at this age when crafting the hooks.\"\"\""
            ],
            "metadata": {
                "id": "KPQJ-NCIzTzw",
                "azdata_cell_guid": "1060a9bd-5f35-4a1c-8268-3895a2b03b9b",
                "language": "python"
            },
            "outputs": [],
            "execution_count": 21
        },
        {
            "cell_type": "code",
            "source": [
                "user_prompt = \"Create a lesson hook for a lesson on newton's third law of motion for grade 8 students\""
            ],
            "metadata": {
                "id": "dXEGTvlV0RDt",
                "azdata_cell_guid": "59b5410b-f710-4f64-85e7-4437c4090b24",
                "language": "python"
            },
            "outputs": [],
            "execution_count": 22
        },
        {
            "cell_type": "code",
            "source": [
                "messages = [\n",
                "    {\"role\": \"system\", \"content\": zero_shot_prompt},\n",
                "    {\"role\": \"user\", \"content\": user_prompt}\n",
                "]"
            ],
            "metadata": {
                "id": "zJiR3Q9g8rJj",
                "azdata_cell_guid": "ddffe998-bb14-464b-a46c-5de583ab7ae1",
                "language": "python"
            },
            "outputs": [],
            "execution_count": 23
        },
        {
            "cell_type": "code",
            "source": [
                "response = client.chat.completions.create(\n",
                "    model=CHATGPT_MODEL,\n",
                "    messages=messages,\n",
                "    max_tokens=4096\n",
                ")"
            ],
            "metadata": {
                "id": "Jr2knWqGIYTh",
                "azdata_cell_guid": "3c0db312-ba4e-46e6-9030-2e59338974ac",
                "language": "python"
            },
            "outputs": [],
            "execution_count": 24
        },
        {
            "cell_type": "code",
            "source": [
                "print(response.choices[0].message.content)"
            ],
            "metadata": {
                "colab": {
                    "base_uri": "https://localhost:8080/"
                },
                "id": "oQ-9vZMfHj76",
                "outputId": "dc3c7c91-b546-465f-b8b5-97359b1cdf6d",
                "azdata_cell_guid": "a489019d-83a3-4026-9242-b145bf1df0b3",
                "language": "python"
            },
            "outputs": [
                {
                    "output_type": "stream",
                    "name": "stdout",
                    "text": "1. \"Do you ever wonder why the ground doesn't break when you jump? Or why a rocket doesn't take off if it doesn't have something to push against? Today, we're going to find out with Newton's Third Law of Motion!\"\n\n2. \"Imagine playing a game of tug-of-war with your friend. When you pull on the rope, what happens to your friend?\" [students respond] \"That's right! They pull back with an equal and opposite force. This is the concept we'll be exploring in Newton's Third Law of Motion.\"\n\n3. \"Have you ever played billiards or pool? You might have noticed that when you hit one ball, the other ball moves in the opposite direction. This is a great example of Newton's Third Law in action! Today, we'll learn how this law applies to all kinds of objects and movements.\"\n\n4. \"How would you like to conduct an experiment where you get to throw eggs without them breaking? Well, today we're going to get to experiment with protecting our eggs by using Newton's Third Law. Get ready for a fun activity!\"\n\n5. \"Have you ever tried to push a friend in a swing? When you push them, they swing forward, right? This happens because of Newton's Third Law of Motion - for every action, there is an equal and opposite reaction. Today, we'll learn how this same law applies to everything from roller coasters to rockets.\"\n"
                }
            ],
            "execution_count": null
        },
        {
            "cell_type": "markdown",
            "source": [
                "That's not a bad output at all. We can further modify parameters like temperature and top-k.\n",
                "\n",
                "What do you think temperature should be for this excercise. Low or High? Why do you think so?"
            ],
            "metadata": {
                "id": "iSgH9ULN1q8T",
                "azdata_cell_guid": "8f1eab58-4734-490e-92b8-048b02d33a68"
            }
        },
        {
            "cell_type": "markdown",
            "source": [
                "### 1.2 Temperature"
            ],
            "metadata": {
                "id": "0Hbv2SgtxEcA",
                "azdata_cell_guid": "2d2da16f-fcd3-4c6d-8c35-e5e50048a1b3"
            }
        },
        {
            "cell_type": "markdown",
            "source": [
                "This parameter controls the variability in the response. Using a higher temperature results in potentially lower probability tokens being chosen.\n",
                "\n",
                "With higher temperatures, we could prompt the model to make multiple completions for the same prompt."
            ],
            "metadata": {
                "id": "IXnCNP1axpca",
                "azdata_cell_guid": "88c52363-558e-4b3a-8fa0-939e4104cd0d"
            }
        },
        {
            "cell_type": "markdown",
            "source": [
                "With a temperature of 0, only the highest probability tokens are chosen so multiple completions should return the same response. This is not very useful for our feature. We want to give multiple options to the teachers to choose from."
            ],
            "metadata": {
                "id": "VTIPKrziyKoj",
                "azdata_cell_guid": "8380830e-8a68-49c8-8423-924780ddd2a5"
            }
        },
        {
            "cell_type": "code",
            "source": [
                "response = client.chat.completions.create(\n",
                "    model=CHATGPT_MODEL,\n",
                "    messages=messages,\n",
                "    n=2,# <- This will ask the model to present two choices for completion so that the teacher has many options to choose from\n",
                "    temperature=0\n",
                ")"
            ],
            "metadata": {
                "id": "1VKtW9jHK-KL",
                "azdata_cell_guid": "bca7cd93-45de-4883-a192-c60964804418",
                "language": "python"
            },
            "outputs": [],
            "execution_count": 26
        },
        {
            "cell_type": "code",
            "source": [
                "print(response.choices[0].message.content)"
            ],
            "metadata": {
                "colab": {
                    "base_uri": "https://localhost:8080/"
                },
                "id": "XH0RE-hQLBlX",
                "outputId": "cabd883d-8795-495c-af1a-b370978e95f3",
                "azdata_cell_guid": "153d98b9-b324-45cd-aeb0-4b2b5cb48400",
                "language": "python"
            },
            "outputs": [
                {
                    "output_type": "stream",
                    "name": "stdout",
                    "text": "1. \"The Great Balloon Race\": Inflate two balloons and attach them to a string. Have students hold the string and let go of the balloons at the same time. Ask them to observe what happens. This activity demonstrates Newton's Third Law of Motion, where for every action, there is an equal and opposite reaction.\n\n2. \"Egg Drop Challenge\": Challenge students to design a container that will protect an egg from breaking when dropped from a height. This activity will require students to apply Newton's Third Law of Motion to create a design that will counteract the force of gravity and prevent the egg from breaking.\n\n3. \"Human Tug-of-War\": Divide the class into two teams and have them play tug-of-war. Ask students to observe what happens when one team pulls harder than the other. This activity demonstrates Newton's Third Law of Motion, where the force exerted by one team is equal and opposite to the force exerted by the other team.\n\n4. \"Rocket Launch\": Build a simple rocket using a balloon, a straw, and some tape. Inflate the balloon and let go of the rocket. Ask students to observe what happens. This activity demonstrates Newton's Third Law of Motion, where the force of the air escaping from the balloon propels the rocket forward.\n\n5. \"Bouncing Balls\": Provide students with a variety of balls of different sizes and materials. Ask them to drop the balls and observe what happens. This activity demonstrates Newton's Third Law of Motion, where the force of the ball hitting the ground is equal and opposite to the force of the ground pushing back on the ball.\n"
                }
            ],
            "execution_count": 27
        },
        {
            "cell_type": "code",
            "source": [
                "print(response.choices[1].message.content)"
            ],
            "metadata": {
                "colab": {
                    "base_uri": "https://localhost:8080/"
                },
                "id": "RmuqyXRfRi7h",
                "outputId": "9a0f27a6-2002-40f0-881e-5fd8d4a2ba21",
                "azdata_cell_guid": "18e9b681-cd8c-4044-81f0-2b1bb5fb862a",
                "language": "python"
            },
            "outputs": [
                {
                    "output_type": "stream",
                    "name": "stdout",
                    "text": "1. \"The Great Balloon Race\": Inflate two balloons and attach them to a string. Have students hold the string and let go of the balloons at the same time. Ask them to observe what happens. This activity demonstrates Newton's Third Law of Motion, where for every action, there is an equal and opposite reaction.\n\n2. \"Egg Drop Challenge\": Challenge students to design a container that will protect an egg from breaking when dropped from a height. This activity will require students to apply Newton's Third Law of Motion to create a design that will counteract the force of gravity and prevent the egg from breaking.\n\n3. \"Human Tug-of-War\": Divide the class into two teams and have them play tug-of-war. Ask students to observe what happens when one team pulls harder than the other. This activity demonstrates Newton's Third Law of Motion, where the force exerted by one team is equal and opposite to the force exerted by the other team.\n\n4. \"Rocket Launch\": Build a simple rocket using a balloon, a straw, and some tape. Inflate the balloon and let go of the rocket. Ask students to observe what happens. This activity demonstrates Newton's Third Law of Motion, where the force of the air escaping from the balloon propels the rocket forward.\n\n5. \"Bouncing Balls\": Provide students with a variety of balls of different sizes and materials. Ask them to drop the balls and observe what happens. This activity demonstrates Newton's Third Law of Motion, where the force of the ball hitting the ground is equal and opposite to the force of the ground pushing back on the ball.\n"
                }
            ],
            "execution_count": 28
        },
        {
            "cell_type": "code",
            "source": [
                "response = client.chat.completions.create(\n",
                "    model=CHATGPT_MODEL,\n",
                "    messages=messages,\n",
                "    max_tokens=4096,\n",
                "    n=2, # <- This will ask the model to present two choices for completion\n",
                "    temperature=0.8\n",
                ")"
            ],
            "metadata": {
                "id": "cWKcbP_aUoj_",
                "azdata_cell_guid": "f1b3b3e1-6864-48a3-a942-37a9a31f65ba",
                "language": "python"
            },
            "outputs": [],
            "execution_count": 30
        },
        {
            "cell_type": "code",
            "source": [
                "print(response.choices[0].message.content)"
            ],
            "metadata": {
                "colab": {
                    "base_uri": "https://localhost:8080/"
                },
                "id": "-_Ya5yh3U8yN",
                "outputId": "043602ed-2f1a-4cf4-d04c-f8ef2e27e188",
                "azdata_cell_guid": "a4a9e8b9-6568-46f4-a2e4-fc24145c7e8f",
                "language": "python"
            },
            "outputs": [
                {
                    "output_type": "stream",
                    "name": "stdout",
                    "text": "1. \"Have you ever played a game of tug-of-war? You pull one side and the other team pulls the opposite side. Have you ever noticed how when one team pulls harder, the other team is pulled in the opposite direction? This is Newton's third law of motion in action!\"\n\n2. \"Imagine you are standing on a skateboard and push off against a wall. What do you think will happen? Will the skateboard move away from the wall? Or will the wall move away from the skateboard? Let's find out how Newton's third law of motion explains what happens!\"\n\n3. \"Have you ever seen a rocket launch? The rocket shoots up into the sky and leaves a trail of smoke behind. But, did you know that the rocket is propelled into the air because of Newton's third law of motion? Let's explore how the rocket's propulsion system works and how Newton's third law plays a role.\"\n\n4. \"Let's play a game of air hockey and see how Newton's third law of motion affects the game. Every time you hit the puck, it will bounce off the opposite side. But, why does this happen? Let's investigate the principles of Newton's third law of motion and how they apply to air hockey.\"\n\n5. \"Have you ever jumped into a pool and felt the water push back against your body? This is a perfect example of Newton's third law of motion. Let's explore this law further and see how it explains the force and reaction between objects.\"\n"
                }
            ],
            "execution_count": 31
        },
        {
            "cell_type": "code",
            "source": [
                "print(response.choices[1].message.content)"
            ],
            "metadata": {
                "colab": {
                    "base_uri": "https://localhost:8080/"
                },
                "id": "Mde7YKABRlse",
                "outputId": "8feb6d42-99ca-4a6f-aaf8-f77361252a5b",
                "azdata_cell_guid": "371aefef-5a80-4993-b901-2c4b0b12a4ab",
                "language": "python"
            },
            "outputs": [
                {
                    "output_type": "stream",
                    "name": "stdout",
                    "text": "1. \"Egg Drop Challenge\": Challenge the students to design and create a container that will protect a raw egg from breaking, when dropped from a certain height. Have them drop the egg containers and observe how the egg and container react. Then, introduce Newton's Third Law of Motion, explaining how the force of the egg hitting the ground (action) is equal and opposite to the force of the container hitting the egg (reaction).\n\n2. \"Human Tug-of-War\": Divide the class into two groups, and have them play tug-of-war. Ask the students to observe what happens when one team pulls harder than the other. Introduce Newton's Third Law of Motion, explaining that the force that one team applies to the rope is equal and opposite to the force that the other team applies to the rope.\n\n3. \"Balloon Rockets\": Have the students make balloon rockets using straws, string, and balloons. As they launch their rockets, ask them to observe what happens to the balloons and the straws. Introduce Newton's Third Law of Motion, explaining how the force of the air pushing out of the balloon (action) is equal and opposite to the force of the balloon pushing the air backwards (reaction).\n\n4. \"Slinky Experiment\": Stretch a slinky between two students, and have one student hold one end while the other moves the other end in different ways. Ask the students to observe what happens to the slinky. Introduce Newton's Third Law of Motion, explaining how the force of the student pulling the slinky (action) is equal and opposite to the force of the slinky pulling the student (reaction).\n\n5. \"Wall Collisions\": Use a toy car or ball to demonstrate what happens when it collides with a wall. Ask the students to observe what happens to the toy object and the wall. Introduce Newton's Third Law of Motion, explaining how the force of the toy object hitting the wall (action) is equal and opposite to the force of the wall hitting the toy object (reaction).\n"
                }
            ],
            "execution_count": 32
        },
        {
            "cell_type": "markdown",
            "source": [
                "Those are decent results. Moving on, let's look at the quality of results we can get with few-shot prompting."
            ],
            "metadata": {
                "id": "BVO_zTOpHi0X",
                "azdata_cell_guid": "20b9e090-0f02-4d20-9f04-557fc4e90893"
            }
        },
        {
            "cell_type": "markdown",
            "source": [
                "### 1.3 Few Shot Prompting"
            ],
            "metadata": {
                "id": "amyyBdOzIdSk",
                "azdata_cell_guid": "335dc17b-4faf-41f7-929c-3c3780f6ae4f"
            }
        },
        {
            "cell_type": "code",
            "source": [
                "system_message = \"\"\"Create a list of 3-5 engaging lesson hooks for a  lesson keeping in mind the grade of the students.\n",
                "The hooks should be designed to capture students' attention and interest at the start of the lesson.\n",
                "Consider the developmental needs and interests of students at this age when crafting the hooks.\"\"\""
            ],
            "metadata": {
                "id": "L-PXaluSTX4-",
                "azdata_cell_guid": "e5401459-53e5-4953-acd9-636b42ad66c1",
                "language": "python"
            },
            "outputs": [],
            "execution_count": 33
        },
        {
            "cell_type": "code",
            "source": [
                "messsages = [\n",
                "    {\"role\": \"system\", \"content\": system_message},\n",
                "\n",
                "    {\"role\": \"user\", \"content\": \"Create a lesson hook on States of Matter for grade 5\"},\n",
                "    {\"role\": \"assistant\", \"content\": \"\"\"Bring in a few different objects (e.g., ice cube, piece of metal, balloon) and ask students to describe their properties.\n",
                "Then reveal that these objects are all made of the same basic building blocks - atoms and molecules - just in different states.\"\"\"},\n",
                "\n",
                "    {\"role\": \"user\", \"content\": \"Create a lesson hook on Multiplication for grade 3\"},\n",
                "    {\"role\": \"assistant\", \"content\": \"\"\"Tell a simple story about going to the store and buying multiple items of the same kind (e.g., 3 bags of apples with 4 apples in each bag).\n",
                "Have students act it out with manipulatives to discover multiplication.\"\"\"},\n",
                "\n",
                "    {\"role\": \"user\", \"content\": \"Create a lesson hook on civil war for grade 7\"},\n",
                "    {\"role\": \"assistant\", \"content\": \"\"\"Hook: Read contrasting first-hand accounts from soldiers on opposite sides of a major battle.\n",
                "Discuss how perspectives differ.\"\"\"},\n",
                "\n",
                "    {\"role\": \"user\", \"content\": \"Create a lesson hook on Photosynthesis for grade 7\"},\n",
                "    {\"role\": \"assistant\", \"content\": \"\"\"The Incredible Shrinking Student: Tell students to imagine they are shrinking down to the size of a molecule to take a journey inside a leaf.\n",
                "Use this to introduce the structures involved in photosynthesis.\"\"\"},\n",
                "\n",
                "    {\"role\": \"user\", \"content\": \"Create a lesson hook on Photosynthesis for grade 7\"},\n",
                "    {\"role\": \"assistant\", \"content\": \"\"\"Divide the class into teams, each representing a part of the photosynthesis process.\n",
                "Have them race to complete the process in the correct order.\"\"\"},\n",
                "\n",
                "    {\"role\": \"user\", \"content\": \"Create a lesson hook on Anantomy for grade 6\"},\n",
                "    {\"role\": \"assistant\", \"content\": \"\"\"\"Interview a Body Part\": Assign each student a specific body part or system.\n",
                "Have them create interview questions and then act out an interview with their assigned part, discussing its functions, challenges, and fun facts.\n",
                "\"\"\"},\n",
                "\n",
                "    {\"role\": \"user\", \"content\": \"Create a lesson hook on Ancient Civilizations for grade 7\"},\n",
                "    {\"role\": \"assistant\", \"content\": \"\"\"\"\"The Lost Civilization\": Students are archaeologists who have discovered a long-lost civilization.\n",
                "As they uncover artifacts and decipher ancient texts, they learn about the culture, achievements, and eventual decline of this mysterious society, inspiring a deep dive into ancient history.\n",
                "Question Hook: \"Why do some societies thrive while others collapse? Is it simply a matter of luck, or are there underlying patterns?\" This hook is ideal for a unit on the rise and fall of ancient civilizations.\n",
                "\"\"\"},\n",
                "    {\"role\": \"user\", \"content\": user_prompt}\n",
                "    ]\n"
            ],
            "metadata": {
                "id": "Sa6vpEz39gZx",
                "azdata_cell_guid": "58d89d3f-f5a3-4d24-906e-37a879b49e4a",
                "language": "python"
            },
            "outputs": [],
            "execution_count": 34
        },
        {
            "cell_type": "code",
            "source": [
                "response = client.chat.completions.create(\n",
                "    model=CHATGPT_MODEL,\n",
                "    messages=messages,\n",
                "    n=2,# <- This will ask the model to present two choices for completion\n",
                "    temperature=0.8\n",
                ")"
            ],
            "metadata": {
                "id": "tMtVTl9lVLmA",
                "azdata_cell_guid": "1cb720a9-921e-4dc7-ac76-19539705cb65",
                "language": "python"
            },
            "outputs": [],
            "execution_count": 35
        },
        {
            "cell_type": "code",
            "source": [
                "print(response.choices[0].message.content)"
            ],
            "metadata": {
                "colab": {
                    "base_uri": "https://localhost:8080/"
                },
                "id": "vWVy_WgFVXpM",
                "outputId": "aad5a8fa-8146-4647-a6e8-ceee409e20d3",
                "azdata_cell_guid": "207ad267-3beb-47d9-9ebe-cccb930b360f",
                "language": "python"
            },
            "outputs": [
                {
                    "output_type": "stream",
                    "name": "stdout",
                    "text": "1. \"Who's Stronger, You or Superman?\" - Start the lesson off by asking students if they think they could beat Superman in an arm wrestling match. After a few laughs, explain that even though Superman has incredible strength, according to Newton's Third Law, for every action, there is an equal and opposite reaction. Ask students to think about how this applies to a game of tug-of-war or arm wrestling.\n\n2. \"Egg Drop Challenge\" - Present the students with a challenge to build a structure that will protect an egg from breaking when dropped from a certain height. To introduce the concept of Newton's Third Law, ask students to think about what happens to the egg when it hits the ground and how the force of the ground affects the egg. After the activity, discuss how the egg's force on the ground is equal to the ground's force on the egg.\n\n3. \"Balloon Rockets\" - Show students a video clip of a rocket launching into space. Ask them to think about how the rocket is able to move through the air and what forces are acting on it. Introduce the concept of Newton's Third Law by explaining how the rocket pushes gas out of its engine, and the gas pushes back on the rocket, propelling it forward. Then, have students create their own balloon rockets and race them to see which one goes the farthest.\n\n4. \"Human Bowling\" - Set up a bowling alley in the classroom (using plastic bottles as pins) and have students take turns rolling a ball to knock them down. After a few rounds, ask the students to think about what happens when the ball hits the pins and how the forces are equal and opposite. Use this as a jumping-off point to introduce the concept of Newton's Third Law.\n\n5. \"Mentos and Diet Coke Explosion\" - Conduct a demonstration where you drop Mentos candies into a bottle of Diet Coke, causing a massive eruption. Ask students to think about why this happens and how it relates to Newton's Third Law. Explain that the release of carbon dioxide gas from the Diet Coke is the \"action\" and the force that propels the soda out of the bottle is the \"reaction,\" showing how the law applies to everyday situations.\n"
                }
            ],
            "execution_count": 36
        },
        {
            "cell_type": "code",
            "source": [
                "print(response.choices[1].message.content)"
            ],
            "metadata": {
                "colab": {
                    "base_uri": "https://localhost:8080/"
                },
                "id": "VRnLmsrjRrDU",
                "outputId": "b52ef09e-f246-4243-c2dd-d1bb83942b0a",
                "azdata_cell_guid": "003a1720-7487-4b12-91c7-1ed35d3986c6",
                "language": "python"
            },
            "outputs": [
                {
                    "output_type": "stream",
                    "name": "stdout",
                    "text": "1. The Egg Drop Challenge: Start the lesson by challenging students to design and build a device that will protect an egg from breaking when dropped from a certain height. Then, explain how Newton's Third Law of Motion relates to the challenge. This hook is great because it is hands-on and allows students to understand the concept of action and reaction.\n\n2. Balloon Rockets: Demonstrate how a balloon rocket works, where the air escaping from the balloon creates a force that propels the rocket forward. Discuss how this relates to Newton's Third Law of Motion and how each action has an equal and opposite reaction. This hook is great because it is visual and interactive, allowing students to see the concept in action.\n\n3. Human Tug-of-War: Divide the class into two groups and have them play a game of tug-of-war. Discuss how the force pulling in opposite directions creates an equal and opposite reaction. Relate this to Newton's Third Law of Motion and discuss how it applies to everyday situations. This hook is great because it is active and allows students to understand the concept through a fun activity.\n\n4. Racecar Collisions: Set up a simulation of two racecars colliding and discuss the forces at play. Relate this to Newton's Third Law of Motion and explain how the force of one car hitting the other car is equal and opposite to the force of the second car hitting the first car. This hook is great because it is engaging and allows students to visualize the forces at play.\n\n5. Rocket Launch: Start the lesson by showing a video of a rocket launching into space. Discuss how the rocket is propelled into the air and how this relates to Newton's Third Law of Motion. Relate this to everyday situations such as jumping off the ground and how the force of the jump is equal and opposite to the force pushing against the ground. This hook is great because it is exciting and allows students to see the concept in a real-world context.\n"
                }
            ],
            "execution_count": 37
        },
        {
            "cell_type": "markdown",
            "source": [
                "The performance of few-shot prompting is tied to the examples provided in the prompt and also on the nature of the task. In this task, few-shot is not significantly better than zero-shot. Better examples could lead to better results.\n",
                "\n",
                "Using examples, you can drive guide the LLM's response in new directions. You can use as many examples as you wish, however, with each new example you are increasing the token consumption per API call which will lead to higher costs. The number of examples should be optimised by iteratively adding and removing examples and checking its effect on performance.\n",
                "\n",
                "Checking performance on a generation task can be challenging. In the next week, we will do the same exercise of optimising examples in a few-shot prompt for a classification task where it is easier to gauge the performance."
            ],
            "metadata": {
                "id": "Pcgl5W23V4m4",
                "azdata_cell_guid": "c9a53c86-1694-4c12-b8ef-cc9198ca6b84"
            }
        },
        {
            "cell_type": "markdown",
            "source": [
                "At the start, we said a lesson hook should have the following qualities.\n",
                "\n",
                "1. Grabbing Attention\n",
                "\n",
                "2. Generating Curiosity\n",
                "\n",
                "3. Creating Relevance\n",
                "\n",
                "4. Building Enthusiasm\n",
                "\n",
                "5. Establishing Connection\n",
                "\n",
                "We can use enforce these qualities in the llm's response by crafting a chain of thought prompt."
            ],
            "metadata": {
                "id": "VKJKYOZYWRx-",
                "azdata_cell_guid": "7cf9bc27-2264-44bb-8565-518b3f38e77a"
            }
        },
        {
            "cell_type": "markdown",
            "source": [
                "### 1.4 CoT"
            ],
            "metadata": {
                "id": "snC_DtwYzMIu",
                "azdata_cell_guid": "c2c0a555-1376-41ce-927c-80d7c70fa244"
            }
        },
        {
            "cell_type": "code",
            "source": [
                "cot_prompt = \"\"\"\n",
                " Create an engaging lesson hooks for a topic for a given grade level classroom.\n",
                " The hooks should be designed to capture students' attention and interest at the start of the lesson.\n",
                " Consider the developmental needs and interests of students at this age when crafting the hooks.\n",
                "\n",
                "Below are 5 steps you need to follow to craft the lesson hook. At each step, you should check if any rewriting of the hook is necessary.\n",
                "If so, add or remove text to aligh with the step. At the end, you should give me a lesson hook that follows all the guidelines.\n",
                "At each step, evaluate if the current core of the hook is effective.\n",
                "If at any point you feel like the current hook is ineffective, you should restart crafting the hook with a new core idea.\n",
                "\n",
                "Step 1: Identify the lesson topic and key concepts\n",
                "- What is the main subject or theme of the lesson?\n",
                "- What are the most important ideas or skills students should learn?\n",
                "\n",
                "Step 2: Consider the students' interests, experiences, and prior knowledge\n",
                "- What do the students already know about this topic?\n",
                "- What aspects of the topic might the students find most interesting or relatable to their lives?\n",
                "- What current events, popular culture references, or real-world examples could help connect the lesson to the students' experiences?\n",
                "\n",
                "Step 3: Brainstorm attention-grabbing opening techniques\n",
                "- Could you start with a surprising fact, statistic, or statement related to the topic?\n",
                "- Is there a thought-provoking question you could pose to the students?\n",
                "- Could you present a mysterious or intriguing scenario that ties into the lesson?\n",
                "- Would a short, engaging story or anecdote help capture the students' attention?\n",
                "\n",
                "Step 4: Incorporate elements of curiosity and relevance\n",
                "- How can you frame the hook to make students curious to learn more about the topic?\n",
                "- What aspects of the hook will make the lesson feel relevant and meaningful to the students' lives or interests?\n",
                "- Could you hint at an exciting activity, demonstration, or revelation to come later in the lesson?\n",
                "\n",
                "\n",
                "At the end, evaluate all the ideas you have created and finally choose a single lesson hook that's best suited.\n",
                "Explain why it's the best lesson hook and then write the best lesson hook.\n",
                "\"\"\""
            ],
            "metadata": {
                "id": "_n70Qo-AJdl9",
                "azdata_cell_guid": "07896633-1b25-4e87-b012-efadd0d8c0d4",
                "language": "python"
            },
            "outputs": [],
            "execution_count": 38
        },
        {
            "cell_type": "code",
            "source": [
                "user_prompt = \"Create a lesson hook for a lesson on newton's third law of motion for grade 8 students\""
            ],
            "metadata": {
                "id": "QKOl6Oq7ZZLA",
                "azdata_cell_guid": "0a5fbfba-330a-4ebe-977a-f8d969af05e4",
                "language": "python"
            },
            "outputs": [],
            "execution_count": 39
        },
        {
            "cell_type": "code",
            "source": [
                "messages = [\n",
                "    {\"role\": \"system\", \"content\": cot_prompt},\n",
                "    {\"role\": \"user\", \"content\": user_prompt}\n",
                "]"
            ],
            "metadata": {
                "id": "2jyZ9A4nZZLB",
                "azdata_cell_guid": "92ab1c17-7436-40f6-b173-10798c6e9586",
                "language": "python"
            },
            "outputs": [],
            "execution_count": 40
        },
        {
            "cell_type": "code",
            "source": [
                "response = client.chat.completions.create(\n",
                "    model=CHATGPT_MODEL,\n",
                "    messages=messages,\n",
                "    n=2,# <- This will ask the model to present two choices for completion\n",
                "    temperature=0.6\n",
                ")"
            ],
            "metadata": {
                "id": "EX_nhZH6ZwjM",
                "azdata_cell_guid": "6a56d561-c9fe-416e-b785-587228a40ade",
                "language": "python"
            },
            "outputs": [],
            "execution_count": 42
        },
        {
            "cell_type": "code",
            "source": [
                "print(response.choices[0].message.content)"
            ],
            "metadata": {
                "colab": {
                    "base_uri": "https://localhost:8080/"
                },
                "id": "t21yns0wZ2PX",
                "outputId": "c1717414-c409-4a4b-c215-7c398e17096d",
                "azdata_cell_guid": "92baeb53-9f41-49a7-83eb-8051918ffba9",
                "language": "python"
            },
            "outputs": [
                {
                    "output_type": "stream",
                    "name": "stdout",
                    "text": "Step 1: Identify the lesson topic and key concepts\n- Lesson topic: Newton's Third Law of Motion\n- Key concepts: Action and reaction forces, equal and opposite forces\n\nStep 2: Consider the students' interests, experiences, and prior knowledge\n- Students may have prior knowledge of Newton's First and Second Laws of Motion\n- Many students may enjoy sports and physical activities that involve motion and forces\n- Students may be interested in superhero movies and how they use force to fight\n\nStep 3: Brainstorm attention-grabbing opening techniques\n- Start with a video clip of a superhero movie fight scene and ask students to identify the forces involved\n- Pose the question, \"Can you really punch someone without getting punched back?\"\n- Show a short video clip of a car crash and ask students to identify the forces involved\n- Start with a demonstration of a balloon rocket and ask students to explain the forces involved\n\nStep 4: Incorporate elements of curiosity and relevance\n- Frame the hook as a challenge to students to prove whether or not they can really punch someone without getting punched back\n- Highlight the relevance of Newton's Third Law of Motion to everyday activities, such as sports and driving\n- Hint at an exciting activity later in the lesson, such as building and testing balloon rockets\n\nThe best lesson hook would be to start with a video clip of a superhero movie fight scene and ask students to identify the forces involved. This hook captures students' attention by tapping into their interests in superhero movies and how they use force to fight. It also creates curiosity by posing a question that challenges their prior knowledge of forces and motion. Finally, it hints at an exciting activity later in the lesson by showing students that they will be building and testing balloon rockets.\n"
                }
            ],
            "execution_count": 43
        },
        {
            "cell_type": "code",
            "source": [
                "print(response.choices[1].message.content)"
            ],
            "metadata": {
                "id": "bevtlvLtkT0V",
                "outputId": "2e53153b-3e76-47d2-987b-731e9817fdbc",
                "colab": {
                    "base_uri": "https://localhost:8080/"
                },
                "azdata_cell_guid": "5d9da737-9f2b-4eec-8e2a-e59b71362329",
                "language": "python"
            },
            "outputs": [
                {
                    "output_type": "stream",
                    "name": "stdout",
                    "text": "Step 1: \nLesson topic and key concepts: \nThe lesson topic is Newton's third law of motion, which states that for every action, there is an equal and opposite reaction. The key concepts include the definition of force, the relationship between action and reaction, and real-world examples of the third law in action.\n\nStep 2: \nConsider the students' interests, experiences, and prior knowledge: \nGrade 8 students might already have some knowledge of motion and force from their previous science classes. They might be interested in sports and games that involve movement, which can be related to the topic. Additionally, students might be intrigued by explosions, collisions, and other dramatic physical events.\n\nStep 3: \nBrainstorm attention-grabbing opening techniques: \n- Start by showing a video of a rocket launch and ask the students what forces are involved in making the rocket move.\n- Ask the students to imagine they are standing on a skateboard and pushing against a wall. What happens when they push? \n- Show a picture of a car crash and ask the students what forces are involved and what happens to the occupants of the car.\n\nStep 4: \nIncorporate elements of curiosity and relevance: \n- Emphasize that Newton's third law is not just a scientific concept, but something that affects our everyday lives. For example, when we walk, we push against the ground and the ground pushes back, propelling us forward.\n- Highlight that this law is crucial for understanding how many machines, such as rockets, airplanes, and cars work. \n- Hint at an exciting activity, such as a demonstration where students will experience the third law in action.\n\nThe best lesson hook: \nStart the lesson by showing a video of a rocket launch and ask the students what forces are involved in making the rocket move. Then, ask the students to imagine they are standing on a skateboard and pushing against a wall. What happens when they push? Finally, show a picture of a car crash and ask the students what forces are involved and what happens to the occupants of the car. Emphasize that Newton's third law is not just a scientific concept, but something that affects our everyday lives. For example, when we walk, we push against the ground and the ground pushes back, propelling us forward. Highlight that this law is crucial for understanding how many machines, such as rockets, airplanes, and cars work. Finally, hint at an exciting activity, such as a demonstration where students will experience the third law in action. \n\nThis lesson hook is effective because it starts with a visual and relatable example, followed by a thought-provoking question, and ends with a dramatic scenario. It also emphasizes the relevance of the topic to the students' lives and hints at an exciting activity to come later in the lesson, which will keep students engaged and curious.\n"
                }
            ],
            "execution_count": 44
        },
        {
            "cell_type": "markdown",
            "source": [
                "We got lesson hooks that are more comprehensive but not necessarily better solution for teachers. While CoT provides a collection of creative hooks for teachers to choose from, Few-shot offers a single, more comprehensive lesson hook. The choice between them ultimately depends on the teacher's preference. It's important to consider the teacher's input to determine the appropriate prompting technique. You can experiment with different parameters to find the optimal combination. As mentioned before, prompting is an iterative process."
            ],
            "metadata": {
                "id": "WEY9C3XXbaA0",
                "azdata_cell_guid": "97e1ff0e-132c-4659-8276-93255b4c255c"
            }
        },
        {
            "cell_type": "markdown",
            "source": [
                "## 2 Crafting Examples"
            ],
            "metadata": {
                "id": "nKRYyJE8mJgl",
                "azdata_cell_guid": "91946cc0-3c51-4f69-a8e9-e8d8268c9933"
            }
        },
        {
            "cell_type": "markdown",
            "source": [
                "The lesson hook engages the students and makes the class exciting and interactive. However, we also need to provide ample amount of examples to make the learning relevant to the real world.\n",
                "\n",
                "Teachers often do not have the time to brainstorm real world examples. LLMs are of great help here. A list of examples can also be provided as additional material for the students."
            ],
            "metadata": {
                "id": "tDRiM0PVlAVy",
                "azdata_cell_guid": "a47166d3-d87f-4b93-91e8-188181e47872"
            }
        },
        {
            "cell_type": "markdown",
            "source": [
                "\n",
                "\n",
                "---\n",
                "\n",
                "\n",
                "What do you think is a sufficient prompting technique to craft examples for a topic?\n",
                "\n",
                "\n",
                "---\n",
                "\n",
                "\n",
                "While it's often observed that Chain of though (COT) and Few-Shot prompting tend to yield superior results compared to Zero-Shot Learning, it's important to note their token-intensive nature, which invariably leads to higher costs. For companies like Khanmigo, operating on a subscription-based revenue model, mitigating such expenses is crucial. In instances where Zero-Shot Learning demonstrates comparable performance, it should be the preferred option.\n",
                "\n",
                "In the context of crafting examples, Zero-Shot prompting stands out as an apt choice.\n",
                "\n",
                "However, give that this has a creative element to it, what do you think should be the temperature, top-k, top-p should be for this exercise? High or Low ?"
            ],
            "metadata": {
                "id": "QsIyyZPimM6y",
                "azdata_cell_guid": "a8752011-70dd-46b0-aa76-f18672c9564a"
            }
        },
        {
            "cell_type": "markdown",
            "source": [
                "### 2.1 Zero Shot"
            ],
            "metadata": {
                "id": "8urtKU7EzTyT",
                "azdata_cell_guid": "d6ce8a79-3f52-4e42-9169-99da4dedcad6"
            }
        },
        {
            "cell_type": "code",
            "source": [
                "example_prompt = \"\"\"Write 10 examples for the following lesson material. Add a brief explanation of the example.\n",
                "The lesson material is:\n",
                "\n",
                "{material}\n",
                "\n",
                "\"\"\""
            ],
            "metadata": {
                "id": "wX8WnX1SpL02",
                "azdata_cell_guid": "594ccc3f-e745-43e2-a4c9-cd90ca9fa133",
                "language": "python"
            },
            "outputs": [],
            "execution_count": 45
        },
        {
            "cell_type": "code",
            "source": [
                "user_input = \"\"\"\n",
                "**Lesson Material:**\n",
                "\n",
                "Title: Understanding Newton's Third Law: Action and Reaction\n",
                "\n",
                "**Objective:**\n",
                "By the end of this lesson, students will be able to:\n",
                "\n",
                "1. Define Newton's Third Law of Motion.\n",
                "2. Identify action and reaction force pairs in various scenarios.\n",
                "3. Explain real-life applications of Newton's Third Law.\n",
                "\n",
                "**Body:**\n",
                "\n",
                "**1. What is Newton's Third Law?**\n",
                "   - Explain that Newton's Third Law states: \"For every action, there is an equal and opposite reaction.\"\n",
                "   - Break down the meaning of this law: when one object exerts a force on a second object, the second object exerts a force of equal magnitude in the opposite direction on the first object.\n",
                "\n",
                "**2. Action and Reaction Pairs:**\n",
                "   - Provide examples and ask students to identify the action and reaction force pairs in each scenario. Examples could include:\n",
                "     - A person pushing against a wall.\n",
                "     - A ball bouncing off the ground.\n",
                "     - A swimmer pushing against the water.\n",
                "   - Encourage students to think about the forces involved and how they act on different objects.\n",
                "\n",
                "**3. Real-Life Applications:**\n",
                "   - Discuss real-life examples where Newton's Third Law is at play, such as:\n",
                "     - Rocket propulsion: The action force is the expulsion of gas from the rocket engines, and the reaction force is the resulting upward movement of the rocket.\n",
                "     - Walking: Each step involves pushing against the ground, which pushes back with an equal force, propelling the person forward.\n",
                "     - Driving a car: The tires push against the road, and the road pushes back, propelling the car forward.\n",
                "   - Encourage students to brainstorm other examples they encounter in daily life.\n",
                "\n",
                "\"\"\""
            ],
            "metadata": {
                "id": "SqPVNUh_s-Ij",
                "azdata_cell_guid": "b0fe03ae-345b-4a99-9a2b-3e0cd82fdb5b",
                "language": "python"
            },
            "outputs": [],
            "execution_count": 46
        },
        {
            "cell_type": "code",
            "source": [
                "response = client.chat.completions.create(\n",
                "    messages = [{\"role\": \"user\", \"content\": example_prompt.format(material = user_input)}],\n",
                "    model = CHATGPT_MODEL,\n",
                "    max_tokens=1000,\n",
                "    temperature=0.8\n",
                ")"
            ],
            "metadata": {
                "id": "oTcwH35wpL0_",
                "azdata_cell_guid": "34efe4bf-992a-48dd-be62-25eaace3e07e",
                "language": "python"
            },
            "outputs": [],
            "execution_count": 47
        },
        {
            "cell_type": "code",
            "source": [
                "print(response.choices[0].message.content)"
            ],
            "metadata": {
                "colab": {
                    "base_uri": "https://localhost:8080/"
                },
                "id": "m803MGmwpL0_",
                "outputId": "50960f01-b5bb-4f6f-b658-c940c137e3ef",
                "azdata_cell_guid": "f4544189-cb65-40f0-94e6-196ad8addfe4",
                "language": "python"
            },
            "outputs": [
                {
                    "output_type": "stream",
                    "name": "stdout",
                    "text": "1. A person leaning against a wall: When a person leans against a wall, the force they exert on the wall is the action force, and the reaction force is the force the wall exerts back on the person.\n2. A balloon being inflated: When air is pumped into a balloon, the action force is the air being forced into the balloon, and the reaction force is the balloon expanding.\n3. A hammer hitting a nail: When a hammer strikes a nail, the action force is the hammer striking the nail, and the reaction force is the nail pushing back on the hammer.\n4. Jumping off a diving board: When a person jumps off a diving board, the action force is the person pushing down on the board, and the reaction force is the board pushing the person up into the air.\n5. A boat propelling forward: When a boat moves forward through water, the action force is the propeller pushing water backward, and the reaction force is the water pushing the boat forward.\n6. A basketball being dribbled: When a basketball is dribbled on the floor, the action force is the ball pushing down on the floor, and the reaction force is the floor pushing the ball back up.\n7. A person rowing a boat: When a person rows a boat, the action force is the oar pushing against the water, and the reaction force is the water pushing the boat forward.\n8. A person pushing a shopping cart: When a person pushes a shopping cart, the action force is the person pushing the cart forward, and the reaction force is the ground pushing the cart back.\n9. A bird flying: When a bird flies, the action force is the bird flapping its wings and pushing air downward, and the reaction force is the air pushing the bird upward.\n10. A race car accelerating: When a race car accelerates forward, the action force is the engine pushing the car forward, and the reaction force is the road pushing the car backward.\n"
                }
            ],
            "execution_count": 48
        },
        {
            "cell_type": "markdown",
            "source": [
                "These are nice examples but they are very common ones. The teacher can come up with such examples themselves. Let's try to get examples that are uncommon. One way to do that is by making the LLM chose uncommon words at each step. Let's set the top-p high so that the model choses new low probabilty words as well."
            ],
            "metadata": {
                "id": "_Iamq4Y5nYVJ",
                "azdata_cell_guid": "0587062c-c44c-48fb-bf5d-b55df2976e11"
            }
        },
        {
            "cell_type": "markdown",
            "source": [
                "### 2.2 Top p"
            ],
            "metadata": {
                "id": "dvHZ6wlQzgDx",
                "azdata_cell_guid": "c58d3ab2-63cb-4c6f-bbde-49c655887c4e"
            }
        },
        {
            "cell_type": "code",
            "source": [
                "response = client.chat.completions.create(\n",
                "    messages = [{\"role\": \"user\", \"content\": example_prompt.format(material = user_input)}],\n",
                "    model = CHATGPT_MODEL,\n",
                "    max_tokens=1000,\n",
                "    temperature=0.95,\n",
                "    top_p = 0.6\n",
                ")"
            ],
            "metadata": {
                "id": "An2M4KVA22zI",
                "azdata_cell_guid": "4ec40165-84ae-448b-8f72-116d73e50a94",
                "language": "python"
            },
            "outputs": [],
            "execution_count": 50
        },
        {
            "cell_type": "code",
            "source": [
                "print(response.choices[0].message.content)"
            ],
            "metadata": {
                "colab": {
                    "base_uri": "https://localhost:8080/"
                },
                "id": "7We0nFgx5xSQ",
                "outputId": "216fa461-c2d9-46dc-8fe6-78465eca284b",
                "azdata_cell_guid": "4f7cda64-2734-4371-be6b-80faa497f5c7",
                "language": "python"
            },
            "outputs": [
                {
                    "output_type": "stream",
                    "name": "stdout",
                    "text": "1. A person throwing a ball: When the person throws the ball, they exert a force on it. The ball then exerts an equal and opposite force on the person's hand.\n2. A bird flying: The bird exerts a force on the air with its wings, and the air exerts an equal and opposite force on the bird, allowing it to fly.\n3. A car crashing into a wall: The car exerts a force on the wall, and the wall exerts an equal and opposite force on the car, causing it to stop.\n4. A diver jumping off a diving board: The diver exerts a force on the diving board, and the diving board exerts an equal and opposite force on the diver, propelling them into the air.\n5. A balloon being inflated: As air is blown into the balloon, the balloon exerts an equal and opposite force on the air, causing it to fill up.\n6. A person walking on the ground: With each step, the person exerts a force on the ground, and the ground exerts an equal and opposite force on the person, allowing them to move forward.\n7. A hammer hitting a nail: The hammer exerts a force on the nail, driving it into the wood. The nail exerts an equal and opposite force on the hammer, causing it to bounce back.\n8. A boat moving through water: The boat exerts a force on the water with its propeller, and the water exerts an equal and opposite force on the boat, propelling it forward.\n9. A trampoline bouncing: When a person jumps on a trampoline, they exert a force on the trampoline. The trampoline then exerts an equal and opposite force on the person, causing them to bounce.\n10. A person pushing a shopping cart: The person exerts a force on the cart, and the cart exerts an equal and opposite force on the person, allowing them to move the cart forward.\n"
                }
            ],
            "execution_count": 51
        },
        {
            "cell_type": "markdown",
            "source": [
                "Good! However, we might want to use newer contexts to make it novel. So increasing one of frequency penalty and presence penaltys should do the trick. (Changing the prompt will also works here. But let's see how frequency penalty individually affects the response.)\n",
                "\n",
                "presence_penalty: Optional - Number between -2.0 and 2.0. - Defaults to 0\n",
                "Positive values penalize new tokens based on whether they appear in the text so far, increasing the model's likelihood to talk about new topics.\n",
                "\n",
                "frequency_penalty - Optional - Number between -2.0 and 2.0. - Defaults to 0\n",
                "Positive values penalize new tokens based on their existing frequency in the text so far, decreasing the model's likelihood to repeat the same line verbatim.\n",
                "\n",
                "Let's set the frequency penalty high so that we get new words."
            ],
            "metadata": {
                "id": "FQ8qWyFe3Vn3",
                "azdata_cell_guid": "064c2c67-e59d-41ea-bca7-273e1d5338b0"
            }
        },
        {
            "cell_type": "markdown",
            "source": [
                "### 2.3 Penalties"
            ],
            "metadata": {
                "id": "QqK0gVYJzaO1",
                "azdata_cell_guid": "a2e49281-7fb3-4a23-a09f-52125b2590a8"
            }
        },
        {
            "cell_type": "code",
            "source": [
                "response = client.chat.completions.create(\n",
                "    messages = [{\"role\": \"user\", \"content\": example_prompt.format(material = user_input)}],\n",
                "    model = CHATGPT_MODEL,\n",
                "    max_tokens=1000,\n",
                "    temperature=0.95,\n",
                "    frequency_penalty = 1.5\n",
                ")"
            ],
            "metadata": {
                "id": "J78mOsK85rlR",
                "azdata_cell_guid": "aa2f6b9b-b0c6-4157-b59e-deb66834efe9",
                "language": "python"
            },
            "outputs": [],
            "execution_count": 52
        },
        {
            "cell_type": "code",
            "source": [
                "print(response.choices[0].message.content)"
            ],
            "metadata": {
                "colab": {
                    "base_uri": "https://localhost:8080/"
                },
                "id": "HInVvgPu67x4",
                "outputId": "5c87abe5-0324-42ca-80b6-1d1eed81b72b",
                "azdata_cell_guid": "6bf134ca-784c-4644-827e-ab64b26570da",
                "language": "python"
            },
            "outputs": [
                {
                    "output_type": "stream",
                    "name": "stdout",
                    "text": "1. A person jumping off a diving board: The action force is the person pushing down on the diving board, and the reaction force is the upward movement of the person.\n2. Playing tug-of-war: Each team is exerting an equal but opposite force on each other, creating a static situation until one team overcomes their opponent.\n3. A balloon being inflated: The action force is air being blown into the balloon, and the reaction force causes it to expand.\n4. Rowing a boat: Each time an oar hits against water (which provides resistance), it pushes back with an equal opposing force which propels both rowers forward - this demonstrates how Newton's third law can come into play in even simple tasks like rowing!\n5. Hitting a baseball with a bat: The action forces involve hitting (striking) of bat against ball whilst holding still or sliding backwards after impact; whereas reactionary forces manifest as changes in direction caused by acceleration from collision between objects.\n6. Push-up exercises help develop strength through applying opposing muscular contractions that are generated by both thrust-down efforts and stabilizing counter-tension during push-up completion phase- perfect example to describe Newton's 3rd Law at work in human anatomy! \n7. Flapping of wings while flying- This motion generates energy & momentum for birds / insects who must exert considerable effort to flap continuously through airspace where gravity creates drag; hence incoming atmospheric forces are countered head-on using flapping movements all throughout body parts together leading them ahead bravely despite tiring out quickly!\n8.Transformers - In these transformers electricity transforms mechanical energy via magnets containing coiled wires spinning at high speeds past differing resistor properties inside external housing structure made up largely metallic elements such as copper alloys among others comprising base materials sourced from minerals mined worldwide , here we have powerful machine mechanics working congruently demonstrating aspects taught within newton\"s 3rd law phenomenon \n9.Rubbing hands together produces warmth due frictional heating mechanism brought about by vigorous hand movements resulting motion heat generation needed for keeping warm especially under cold environments thus showing working reality example based upon fundamental principles considerd behind assertions condoned thru teaching frameworks involving newtonian Laws \n10.Elevation through stair climbing requires us to apply reactionary vertical pressure upwards energetically so our legs do remain grounded preventing fall-off syndrome otherwise gravitational potential gets lost rendering overall balancing requirements feel heavy thus impart exhibiting maximum biodynamic compatibility when executing effective strides!.\n"
                }
            ],
            "execution_count": 53
        },
        {
            "cell_type": "markdown",
            "source": [
                "Slight Improvement. Let's also change the prompt."
            ],
            "metadata": {
                "id": "Lxsa8SPh-RBb",
                "azdata_cell_guid": "ec0467bb-7714-4439-b4b3-35140d158273"
            }
        },
        {
            "cell_type": "code",
            "source": [
                "example_prompt = \"\"\"Write 10 uncommon examples for the following lesson material.\n",
                "Add a brief explanation of the example.\n",
                "The lesson material is:\n",
                "\n",
                "{material}\n",
                "\n",
                "\"\"\""
            ],
            "metadata": {
                "id": "p5G0VxhRe3UY",
                "azdata_cell_guid": "e513fabf-8c69-4e0d-ad3a-d87584768964",
                "language": "python"
            },
            "outputs": [],
            "execution_count": 54
        },
        {
            "cell_type": "code",
            "source": [
                "response = client.chat.completions.create(\n",
                "    messages = [{\"role\": \"user\", \"content\": example_prompt.format(material = user_input)}],\n",
                "    model = CHATGPT_MODEL,\n",
                "    max_tokens=1000,\n",
                "    temperature=0.95,\n",
                "    frequency_penalty = 1.5\n",
                ")"
            ],
            "metadata": {
                "id": "ZpNCUooGe3UZ",
                "azdata_cell_guid": "eb651a55-3c94-4f09-b1ff-c01b21637f70",
                "language": "python"
            },
            "outputs": [],
            "execution_count": 55
        },
        {
            "cell_type": "code",
            "source": [
                "print(response.choices[0].message.content)"
            ],
            "metadata": {
                "id": "ehZF5go2e3UZ",
                "outputId": "f44d3d2d-3253-46d5-8761-67764cbc5377",
                "colab": {
                    "base_uri": "https://localhost:8080/"
                },
                "azdata_cell_guid": "e7243770-5e78-4f41-a8bf-6e11ee50469c",
                "language": "python"
            },
            "outputs": [
                {
                    "output_type": "stream",
                    "name": "stdout",
                    "text": "1. A diver jumping off a diving board and the force of the water pushing back up on them.\n2. A person using a jackhammer to break pavement and the equal force that pushes against their arms in the opposite direction.\n3. An airplane's engines pushing air backwards, causing it to move forward through the air (thrust).\n4. Playing catch with a ball; when you throw it towards your partner, they push against it with an equal force in order for them to catch it.\n5. When blowing up balloons, as one blows into them they are met with an equal resistance from inside of it which makes blowing more difficult as more air is added\n6. Loading weights onto barbells at a gym creates two forces acting upon each other seemingly equally but opposing one another; weight and motion vs gravity's downward pull\n7.An escalator where users walk this way on stairs while standing idle people go that way leading friction created by differing speeds or momentum balancing out influences \n8.A swimmer encountering water resistance every time his or her hand moves along its path- thrust vs Newton's Third Law works within bodies of fluid too! \n9.In space walks requiring astronaut movements venturing near \"objects\" like satellites or other crafts require gas propulsion vessels so reaction forces don't spin astronaut(s) away dangerously into space\n10.When someone runs faster than another person(next example). If both individuals collide mid-stride there must be compensation for reactions: Faster runner has larger momentum so they will cause more push over distance traveled which can be tripping hazard\r\r\n\n"
                }
            ],
            "execution_count": 56
        },
        {
            "cell_type": "markdown",
            "source": [
                "Together the prompt and the penalty bring us some new examples that are not main stream. This should allow the teacher to bring new examples to the classroom that are more relatable to the children."
            ],
            "metadata": {
                "id": "FM1k-nnt_R4Q",
                "azdata_cell_guid": "aba68a55-0567-4fdc-8f95-8c0eedafcfe9"
            }
        },
        {
            "cell_type": "markdown",
            "source": [
                "## 3 Automating Quizzes"
            ],
            "metadata": {
                "id": "Nh3S8NW88MD3",
                "azdata_cell_guid": "d3ea4daa-de31-4e43-8864-fe2c2d08ac8c"
            }
        },
        {
            "cell_type": "markdown",
            "source": [
                "\n",
                "\n",
                "\n",
                "---\n",
                "\n",
                "\n",
                "Once the lesson is taught, the subsequent task for a teacher involves crafting a test to assess students' retention. Generating quizzes can be a tedious endeavor. Let's leverage Language Models to automate the quiz creation process.\n",
                "\n",
                "\n",
                "---\n",
                "\n"
            ],
            "metadata": {
                "id": "4hMzl2wP7vUn",
                "azdata_cell_guid": "ed02265a-8b52-4cbd-b220-5c185a52b473"
            }
        },
        {
            "cell_type": "markdown",
            "source": [
                "### 3.1 Zero_shot"
            ],
            "metadata": {
                "id": "mchZuOnUFaSJ",
                "azdata_cell_guid": "9945d8b8-64e9-4bc4-bb7f-a90efa32c180"
            }
        },
        {
            "cell_type": "code",
            "source": [
                "quiz_input = \"\"\"Task: Generate a mcq quiz on the teaching material mentioned above\n",
                "\n",
                "\n",
                "Output Format:\n",
                "Use the following format for each question:\n",
                "\n",
                "Question: [QUESTION TEXT]\n",
                "Options:\n",
                "a) [OPTION A]\n",
                "b) [OPTION B]\n",
                "c) [OPTION C]\n",
                "d) [OPTION D]\n",
                "\n",
                "Correct option: [Correct Option]\n",
                "\n",
                "Incorrect Answers:\n",
                "a) [EXPLANATION FOR OPTION A BEING INCORRECT]\n",
                "b) [EXPLANATION FOR OPTION B BEING INCORRECT]\n",
                "c) [EXPLANATION FOR OPTION C BEING INCORRECT]\n",
                "d) [EXPLANATION FOR OPTION D BEING INCORRECT]\n",
                "\n",
                "\"\"\""
            ],
            "metadata": {
                "id": "wfhjzszsDqUb",
                "azdata_cell_guid": "1d62ca1c-8897-4b88-9ae1-720d409f6b80",
                "language": "python"
            },
            "outputs": [],
            "execution_count": 57
        },
        {
            "cell_type": "code",
            "source": [
                "user_input = \"\"\"\n",
                "**Lesson Material:**\n",
                "\n",
                "Title: Understanding Newton's Third Law: Action and Reaction\n",
                "\n",
                "Objective: By the end of this lesson, students will be able to:\n",
                "\n",
                "Define Newton's Third Law of Motion.\n",
                "Identify action and reaction force pairs in various scenarios.\n",
                "Explain real-life applications of Newton's Third Law.\n",
                "Body:\n",
                "\n",
                "1. What is Newton's Third Law?\n",
                "\n",
                "Explain that Newton's Third Law states: \"For every action, there is an equal and opposite reaction.\"\n",
                "Break down the meaning of this law: when one object exerts a force on a second object, the second object exerts a force of equal magnitude in the opposite direction on the first object.\n",
                "2. Action and Reaction Pairs:\n",
                "\n",
                "Provide examples and ask students to identify the action and reaction force pairs in each scenario. Examples could include:\n",
                "A person pushing against a wall.\n",
                "A ball bouncing off the ground.\n",
                "A swimmer pushing against the water.\n",
                "Encourage students to think about the forces involved and how they act on different objects.\n",
                "3. Real-Life Applications:\n",
                "\n",
                "Discuss real-life examples where Newton's Third Law is at play, such as:\n",
                "Rocket propulsion: The action force is the expulsion of gas from the rocket engines, and the reaction force is the resulting upward movement of the rocket.\n",
                "Walking: Each step involves pushing against the ground, which pushes back with an equal force, propelling the person forward.\n",
                "Driving a car: The tires push against the road, and the road pushes back, propelling the car forward.\n",
                "Encourage students to brainstorm other examples they encounter in daily life.\"\"\""
            ],
            "metadata": {
                "id": "3NlAQye3DqU7",
                "azdata_cell_guid": "0dfe9305-8aed-4007-ac56-890e728497b7",
                "language": "python"
            },
            "outputs": [],
            "execution_count": 58
        },
        {
            "cell_type": "code",
            "source": [
                "messages = [{\"role\":\"user\",\"content\":user_input+quiz_input}]"
            ],
            "metadata": {
                "id": "UX2uDBZdDqU9",
                "azdata_cell_guid": "15b38a31-5a7a-4e70-8607-7686e4ecb051",
                "language": "python"
            },
            "outputs": [],
            "execution_count": 59
        },
        {
            "cell_type": "code",
            "source": [
                "response = client.chat.completions.create(\n",
                "    messages = messages,\n",
                "    model = CHATGPT_MODEL,\n",
                "    max_tokens=1000,\n",
                "    temperature=0.2\n",
                ")"
            ],
            "metadata": {
                "id": "KIPyxmgUDqU9",
                "azdata_cell_guid": "73452cbe-4e00-47bb-b4a7-1117ba76749c",
                "language": "python"
            },
            "outputs": [],
            "execution_count": 60
        },
        {
            "cell_type": "code",
            "source": [
                "print(response.choices[0].message.content)"
            ],
            "metadata": {
                "colab": {
                    "base_uri": "https://localhost:8080/"
                },
                "id": "AWVwysvKDqU-",
                "outputId": "6d326bc8-0069-4129-ec6c-f763d88a8e01",
                "azdata_cell_guid": "a7d341d3-6c5c-44bc-87a5-c42e873b9729",
                "language": "python"
            },
            "outputs": [
                {
                    "output_type": "stream",
                    "name": "stdout",
                    "text": "Question: What does Newton's Third Law state?\n\nOptions:\na) For every action, there is an equal and opposite reaction.\nb) For every reaction, there is an equal and opposite action.\nc) For every force, there is an equal and opposite force.\nd) For every object, there is an equal and opposite object.\n\nCorrect option: a) For every action, there is an equal and opposite reaction.\n\nIncorrect Answers:\nb) This is the opposite of Newton's Third Law.\nc) This is a general statement about forces, not specific to Newton's Third Law.\nd) This is not a correct statement.\n\nQuestion: What is an action and reaction force pair?\n\nOptions:\na) Two forces that act on the same object.\nb) Two forces that act in the same direction.\nc) Two forces that act on different objects, with equal magnitude and opposite direction.\nd) Two forces that act on different objects, with equal magnitude and same direction.\n\nCorrect option: c) Two forces that act on different objects, with equal magnitude and opposite direction.\n\nIncorrect Answers:\na) This is not an action and reaction force pair.\nb) This is not an action and reaction force pair.\nd) This is not an action and reaction force pair.\n\nQuestion: Which of the following is an example of an action and reaction force pair?\n\nOptions:\na) A person standing still.\nb) A ball rolling down a hill.\nc) A swimmer diving into a pool.\nd) A car driving on a straight road.\n\nCorrect option: c) A swimmer diving into a pool.\n\nIncorrect Answers:\na) This does not involve any force pairs.\nb) This involves gravity and friction, not action and reaction force pairs.\nd) This involves the force of the engine and the friction of the road, not action and reaction force pairs.\n\nQuestion: What is an example of Newton's Third Law in rocket propulsion?\n\nOptions:\na) The action force is the weight of the rocket, and the reaction force is the force of gravity.\nb) The action force is the force of the engine, and the reaction force is the expulsion of gas from the rocket.\nc) The action force is the force of the rocket pushing against the air, and the reaction force is the air pushing back.\nd) The action force is the force of the rocket pushing against the ground, and the reaction force is the ground pushing back.\n\nCorrect option: b) The action force is the force of the engine, and the reaction force is the expulsion of gas from the rocket.\n\nIncorrect Answers:\na) This is not an example of Newton's Third Law.\nc) This is an example of air resistance, not Newton's Third Law.\nd) This is an example of the force of the tires pushing against the ground, not Newton's Third Law.\n\nQuestion: How does Newton's Third Law apply to walking?\n\nOptions:\na) Each step involves pushing against the air, which pushes back with an equal force.\nb) Each step involves pushing against the ground, which pushes back with an equal force.\nc) Each step involves pushing against the person's own body, which pushes back with an equal force.\nd) Each step involves pushing against the person's shoes, which push back with an equal force.\n\nCorrect option: b) Each step involves pushing against the ground, which pushes back with an equal force.\n\nIncorrect Answers:\na) This is not an example of Newton's Third Law.\nc) This is not an example of Newton's Third Law.\nd) This is not an example of Newton's Third Law.\n"
                }
            ],
            "execution_count": 61
        },
        {
            "cell_type": "markdown",
            "source": [
                "### 3.2 COT"
            ],
            "metadata": {
                "id": "nEdvie_lFeLR",
                "azdata_cell_guid": "ae981b6c-a30c-4ee1-96a9-bbfdb0733b3a"
            }
        },
        {
            "cell_type": "markdown",
            "source": [
                "Let's try COT with this exercise. We would expect COT to perform better."
            ],
            "metadata": {
                "id": "2-TslOpn-VDk",
                "azdata_cell_guid": "6f5862eb-e952-4c28-a291-e850d23ab294"
            }
        },
        {
            "cell_type": "code",
            "source": [
                "quiz_input = \"\"\"Task: Generate a quiz on the teaching material mentioned above with the following specifications:\n",
                "\n",
                "First:\n",
                "- Understand the key concepts related to teaching material\n",
                "- Identify the components/elements of teaching material\n",
                "- Apply the principles of teaching material to solve problems\n",
                "\n",
                "Question Format:\n",
                "- Generate 10 multiple-choice questions with 4 options each\n",
                "- Ensure questions are clear, concise, and test only one concept/skill\n",
                "- Avoid ambiguity or tricky language in the questions and options\n",
                "\n",
                "Options:\n",
                "- Include relevant and plausible distractors (incorrect options)\n",
                "- Vary the length of options to prevent unintentional hints\n",
                "- Randomize the order of options for each question\n",
                "\n",
                "Explanations:\n",
                "- Provide a detailed explanation for the correct answer, including additional context, examples, or reinforcement of understanding\n",
                "- For each incorrect option, explain why it is incorrect and address any potential misconceptions or errors in thinking\n",
                "\n",
                "Output Format:\n",
                "Use the following format for each question:\n",
                "\n",
                "Question: [QUESTION TEXT]\n",
                "Options:\n",
                "a) [OPTION A]\n",
                "b) [OPTION B]\n",
                "c) [OPTION C]\n",
                "d) [OPTION D]\n",
                "\n",
                "Explanation:\n",
                "[EXPLANATION FOR CORRECT ANSWER]\n",
                "\n",
                "Incorrect Answers:\n",
                "a) [EXPLANATION FOR OPTION A BEING CORRECT/INCORRECT]\n",
                "b) [EXPLANATION FOR OPTION B BEING CORRECT/INCORRECT]\n",
                "c) [EXPLANATION FOR OPTION C BEING CORRECT/INCORRECT]\n",
                "d) [EXPLANATION FOR OPTION D BEING CORRECT/INCORRECT]\n",
                "\n",
                "Think step by step\"\"\""
            ],
            "metadata": {
                "id": "Xp6wfHcf_U4B",
                "azdata_cell_guid": "36815b2b-2788-4bee-83c2-c3c7b102e9bb",
                "language": "python"
            },
            "outputs": [],
            "execution_count": 62
        },
        {
            "cell_type": "code",
            "source": [
                "user_input = \"\"\"\n",
                "**Lesson Material:**\n",
                "\n",
                "Title: Understanding Newton's Third Law: Action and Reaction\n",
                "\n",
                "Objective: By the end of this lesson, students will be able to:\n",
                "\n",
                "Define Newton's Third Law of Motion.\n",
                "Identify action and reaction force pairs in various scenarios.\n",
                "Explain real-life applications of Newton's Third Law.\n",
                "Body:\n",
                "\n",
                "1. What is Newton's Third Law?\n",
                "\n",
                "Explain that Newton's Third Law states: \"For every action, there is an equal and opposite reaction.\"\n",
                "Break down the meaning of this law: when one object exerts a force on a second object, the second object exerts a force of equal magnitude in the opposite direction on the first object.\n",
                "2. Action and Reaction Pairs:\n",
                "\n",
                "Provide examples and ask students to identify the action and reaction force pairs in each scenario. Examples could include:\n",
                "A person pushing against a wall.\n",
                "A ball bouncing off the ground.\n",
                "A swimmer pushing against the water.\n",
                "Encourage students to think about the forces involved and how they act on different objects.\n",
                "3. Real-Life Applications:\n",
                "\n",
                "Discuss real-life examples where Newton's Third Law is at play, such as:\n",
                "Rocket propulsion: The action force is the expulsion of gas from the rocket engines, and the reaction force is the resulting upward movement of the rocket.\n",
                "Walking: Each step involves pushing against the ground, which pushes back with an equal force, propelling the person forward.\n",
                "Driving a car: The tires push against the road, and the road pushes back, propelling the car forward.\n",
                "Encourage students to brainstorm other examples they encounter in daily life.\"\"\""
            ],
            "metadata": {
                "id": "lSF3UlPo7FFO",
                "azdata_cell_guid": "b6671c7e-f5a9-4013-a19a-759c4bf1ed08",
                "language": "python"
            },
            "outputs": [],
            "execution_count": 63
        },
        {
            "cell_type": "code",
            "source": [
                "messages = [{\"role\":\"user\",\"content\":user_input+quiz_input}]"
            ],
            "metadata": {
                "id": "LkR0HhakBnyY",
                "azdata_cell_guid": "ee82ce3d-bd39-4a0e-834d-bd0806086261",
                "language": "python"
            },
            "outputs": [],
            "execution_count": 64
        },
        {
            "cell_type": "code",
            "source": [
                "response = client.chat.completions.create(\n",
                "    messages = messages,\n",
                "    model = CHATGPT_MODEL,\n",
                "    max_tokens=1000,\n",
                "    temperature=0.2\n",
                ")"
            ],
            "metadata": {
                "id": "Y6RQK9AFCB_7",
                "azdata_cell_guid": "e1fd17af-9232-4287-8c43-75b815577a5e",
                "language": "python"
            },
            "outputs": [],
            "execution_count": 65
        },
        {
            "cell_type": "code",
            "source": [
                "print(response.choices[0].message.content)"
            ],
            "metadata": {
                "colab": {
                    "base_uri": "https://localhost:8080/"
                },
                "id": "IuAiv0U8CCAC",
                "outputId": "f29fbfbe-9861-4626-a1be-ea89e6d8f7f0",
                "azdata_cell_guid": "c42d1f30-67e7-4d37-be14-2e30b4c74af8",
                "language": "python"
            },
            "outputs": [
                {
                    "output_type": "stream",
                    "name": "stdout",
                    "text": "Step 1: Identify key concepts related to teaching material\n- Newton's Third Law of Motion\n- Action and reaction force pairs\n- Real-life applications of Newton's Third Law\n\nStep 2: Identify components/elements of teaching material\n- Definition of Newton's Third Law\n- Examples of action and reaction force pairs\n- Real-life applications of Newton's Third Law\n\nStep 3: Apply principles of teaching material to solve problems\n- Identify action and reaction force pairs in various scenarios\n- Explain real-life applications of Newton's Third Law\n\nStep 4: Generate quiz questions\n1. What does Newton's Third Law state?\na) Every object in motion will stay in motion unless acted upon by an external force.\nb) The force of an object is equal to its mass times acceleration.\nc) For every action, there is an equal and opposite reaction.\nd) The acceleration of an object is directly proportional to the force applied to it.\n\nExplanation: \nc) Newton's Third Law states that for every action, there is an equal and opposite reaction. This means that when one object exerts a force on a second object, the second object exerts a force of equal magnitude in the opposite direction on the first object.\n\nIncorrect Answers:\na) This is Newton's First Law of Motion.\nb) This is Newton's Second Law of Motion.\nd) This is a combination of Newton's Second Law and the definition of acceleration.\n\n2. What is an action and reaction force pair?\na) Two forces that act in the same direction.\nb) Two forces that act on different objects.\nc) Two forces that have different magnitudes.\nd) Two forces that act in opposite directions on different objects.\n\nExplanation:\nd) An action and reaction force pair is a pair of forces that act in opposite directions on different objects. According to Newton's Third Law, when one object exerts a force on a second object, the second object exerts a force of equal magnitude in the opposite direction on the first object.\n\nIncorrect Answers:\na) Two forces that act in the same direction are not an action and reaction force pair.\nb) Two forces that act on different objects are part of an action and reaction force pair, but this option does not specify the direction of the forces.\nc) Two forces that have different magnitudes are not an action and reaction force pair.\n\n3. Which of the following is an example of an action and reaction force pair?\na) A person pushing a shopping cart.\nb) A person lifting a weight.\nc) A ball rolling down a hill.\nd) A car accelerating on a flat road.\n\nExplanation:\na) When a person pushes a shopping cart, the person exerts a force on the cart, and the cart exerts an equal and opposite force on the person. This is an action and reaction force pair.\n\nIncorrect Answers:\nb) Lifting a weight involves only one force acting on the weight.\nc) Rolling down a hill involves gravitational force and friction, but not an action and reaction force pair.\nd) Accelerating a car involves the force of the engine pushing the car forward, but not an action and reaction force pair.\n\n4. Which of the following is an example of a real-life application of Newton's Third Law?\na) A person walking up a flight of stairs.\nb) A bird flying in the sky.\nc) A rocket launching into space.\nd) A car driving on a flat road.\n\nExplanation:\nc) Rocket propulsion is an example of Newton's Third Law in action. The action force is the expulsion of gas from the rocket engines, and the reaction force is the resulting upward movement of the rocket.\n\nIncorrect Answers:\na) Walking up stairs involves gravity and friction, but not an action and reaction force pair.\nb) Flying involves lift and drag, but not an action and reaction force pair.\nd) Driving a car involves friction between the tires and the road, but not an action and reaction force pair.\n\n5. When a person jumps off a diving board, what is the action force?\na) The person's weight pushing down on the diving board.\nb) The person's legs pushing against the diving board.\nc) The person's arms swinging forward.\nd) The person's body moving through the air.\n\nExplanation:\nb) When a person jumps off a diving board, the action force is the person's legs pushing against the diving board. The reaction force is the diving board pushing back on the person's legs, propelling the person upward.\n\nIncorrect Answers:\na) The person's weight pushing down on the diving board is not an action and reaction force pair.\nc) The person's arms swinging forward do not involve a force acting on another object.\nd) The person's body moving through the air is a result of the action and reaction force pair, but not the action force itself.\n\n6. Which of the following is an example of an action and reaction\n"
                }
            ],
            "execution_count": 66
        },
        {
            "cell_type": "markdown",
            "source": [
                "The output from both the techniques is not that different. COT prompting isn't as useful as we expected in this situation. Zero-shot-prompt performed suffieciently well and since it is token-efficient, we should use that. However, in a different context COT's performance can be substantially higher.\n",
                "\n",
                "For example, let's carry out the same exercise for a math class. Let's say the topic is solving two-step equations."
            ],
            "metadata": {
                "id": "Cam8lYnxFjmk",
                "azdata_cell_guid": "a6279873-2317-42d3-88b9-b954d5967689"
            }
        },
        {
            "cell_type": "markdown",
            "source": [
                "## 4 Math Quiz"
            ],
            "metadata": {
                "id": "WKvPZYUyJiVd",
                "azdata_cell_guid": "891383e6-5d0b-42a4-9d8f-f35f458e7d65"
            }
        },
        {
            "cell_type": "markdown",
            "source": [
                "**Things to Ponder:**\n",
                "What kind of temperature, top-p, frequency penalty values can we use here?\n",
                "\n",
                "Note: Though we want the answers to be same everytime, we want different questions so that the teacher can chose from a variety of options.\n"
            ],
            "metadata": {
                "id": "7F8T_gPJODi9",
                "azdata_cell_guid": "a1c78dbb-a27b-4cad-a5bb-2a9adc414932"
            }
        },
        {
            "cell_type": "markdown",
            "source": [
                "What happens if we change temperature and what happens if we change top-p?\n",
                "\n",
                "Temperature regulates randomness, with lower temperatures yielding less randomness (greater determinism), whereas higher temperatures result in increased randomness.\n",
                "\n",
                "In more technical terms, a lower temperature boosts the model's confidence in its primary selections. A temperature set at 0 equates to argmax or maximum likelihood, representing the token with the highest probability. A higher temperature modifies the probabilities in such a way that all probabilities are closer to each other i.e., the model has only slightly more confidence in it's top choices. We do not want the model to be in this state for calculation. Hence a temperature of zero is fit for this situation.\n",
                "\n",
                "Regarding top-p, it calculates the cumulative probability distribution and halts once this distribution surpasses the specified top-p value. For instance, a top-p value of 0.3 implies that only tokens encompassing the top 30% probability mass are considered."
            ],
            "metadata": {
                "id": "CyKssHcAadGk",
                "azdata_cell_guid": "d43cadf9-2b95-4ea7-93df-d147befef9fe"
            }
        },
        {
            "cell_type": "markdown",
            "source": [
                "\n",
                "Between the two options, it is far more logical to maintain a temperature of zero. This ensures that high-probability terms, such as answers, are prioritized for selection. In instances where high probability terms are not present, words can be chosen from a limited sample set by incrementally increasing the top-p to small values."
            ],
            "metadata": {
                "id": "6Jvsf36Qw0jb",
                "azdata_cell_guid": "cd93b852-45d8-4115-b9cc-aade8aec7f78"
            }
        },
        {
            "cell_type": "markdown",
            "source": [
                "### 4.1 Zero_shot"
            ],
            "metadata": {
                "id": "T2XCCUEyLV9N",
                "azdata_cell_guid": "51014e4b-3752-4132-aebb-38c077bcd932"
            }
        },
        {
            "cell_type": "code",
            "source": [
                "quiz_input = \"\"\"Task: Generate a mcq quiz on the teaching material mentioned above.\n",
                "\n",
                "\n",
                "Output Format:\n",
                "Use the following format for each question:\n",
                "\n",
                "Question: [QUESTION TEXT]\n",
                "Options:\n",
                "a) [OPTION A]\n",
                "b) [OPTION B]\n",
                "c) [OPTION C]\n",
                "d) [OPTION D]\n",
                "\n",
                "Correct Option: [Correct Option]\n",
                "\n",
                "Explanation:\n",
                "[EXPLANATION FOR CORRECT ANSWER]\n",
                "\n",
                "Incorrect Answers:\n",
                "a) [EXPLANATION FOR OPTION A BEING CORRECT/INCORRECT]\n",
                "b) [EXPLANATION FOR OPTION B BEING CORRECT/INCORRECT]\n",
                "c) [EXPLANATION FOR OPTION C BEING CORRECT/INCORRECT]\n",
                "d) [EXPLANATION FOR OPTION D BEING CORRECT/INCORRECT]\n",
                "\n",
                "\"\"\""
            ],
            "metadata": {
                "id": "i9YhJND-JiV_",
                "azdata_cell_guid": "548cf6b1-a1b2-4b6e-b179-498405d406a2",
                "language": "python"
            },
            "outputs": [],
            "execution_count": 67
        },
        {
            "cell_type": "code",
            "source": [
                "user_input = \"\"\"\n",
                "**Lesson Material:**\n",
                "\n",
                "solving two-step equations\"\"\""
            ],
            "metadata": {
                "id": "G8SGKjsfJiWA",
                "azdata_cell_guid": "b406bd80-1b9f-4777-b99e-eb0d0263c57c",
                "language": "python"
            },
            "outputs": [],
            "execution_count": 68
        },
        {
            "cell_type": "code",
            "source": [
                "messages = [{\"role\":\"user\",\"content\":user_input+quiz_input}]"
            ],
            "metadata": {
                "id": "5Q3RPpd1JiWA",
                "azdata_cell_guid": "114560c3-e237-4468-b62a-30d0241d0e70",
                "language": "python"
            },
            "outputs": [],
            "execution_count": 69
        },
        {
            "cell_type": "code",
            "source": [
                "response = client.chat.completions.create(\n",
                "    messages = messages,\n",
                "    model = CHATGPT_MODEL,\n",
                "    temperature=0,\n",
                "    top_p = 0.2\n",
                ")"
            ],
            "metadata": {
                "id": "711tlEL3JiWB",
                "azdata_cell_guid": "70550459-234e-40c0-b124-6e5eb6564e24",
                "language": "python"
            },
            "outputs": [],
            "execution_count": 70
        },
        {
            "cell_type": "code",
            "source": [
                "print(response.choices[0].message.content)"
            ],
            "metadata": {
                "colab": {
                    "base_uri": "https://localhost:8080/"
                },
                "id": "evL1CpftJiWB",
                "outputId": "1c24d4c7-c578-48e7-a345-93997be40baa",
                "azdata_cell_guid": "637c8761-f37d-4f9a-aa90-0a635c2d9e74",
                "language": "python"
            },
            "outputs": [
                {
                    "output_type": "stream",
                    "name": "stdout",
                    "text": "Question: What is the first step in solving a two-step equation?\nOptions:\na) Add or subtract the same number from both sides\nb) Multiply or divide both sides by the same number\nc) Combine like terms on both sides\nd) None of the above\n\nCorrect Option: b) Multiply or divide both sides by the same number\n\nExplanation:\nThe first step in solving a two-step equation is to undo the addition or subtraction by multiplying or dividing both sides by the same number.\n\nIncorrect Answers:\na) Adding or subtracting the same number from both sides is the second step in solving a two-step equation.\nc) Combining like terms on both sides is not always necessary in solving a two-step equation.\nd) None of the above is incorrect as there is a specific first step in solving a two-step equation.\n\nQuestion: Solve for x: 3x + 5 = 14\nOptions:\na) x = 3\nb) x = 4\nc) x = 9\nd) x = 11\n\nCorrect Option: b) x = 4\n\nExplanation:\nTo solve for x, we first undo the addition by subtracting 5 from both sides, then undo the multiplication by dividing both sides by 3. This gives us x = 4.\n\nIncorrect Answers:\na) This is not the correct solution to the equation.\nc) This is not the correct solution to the equation.\nd) This is not the correct solution to the equation.\n\nQuestion: Solve for y: 2(y - 3) = 10\nOptions:\na) y = 1\nb) y = 4\nc) y = 6\nd) y = 8\n\nCorrect Option: c) y = 6\n\nExplanation:\nTo solve for y, we first distribute the 2 to get 2y - 6 = 10. Then, we undo the subtraction by adding 6 to both sides. This gives us 2y = 16. Finally, we undo the multiplication by dividing both sides by 2. This gives us y = 6.\n\nIncorrect Answers:\na) This is not the correct solution to the equation.\nb) This is not the correct solution to the equation.\nd) This is not the correct solution to the equation.\n\nQuestion: Solve for z: 5z - 7 = 18\nOptions:\na) z = 5\nb) z = 6\nc) z = 7\nd) z = 8\n\nCorrect Option: d) z = 8\n\nExplanation:\nTo solve for z, we first undo the subtraction by adding 7 to both sides. This gives us 5z = 25. Finally, we undo the multiplication by dividing both sides by 5. This gives us z = 8.\n\nIncorrect Answers:\na) This is not the correct solution to the equation.\nb) This is not the correct solution to the equation.\nc) This is not the correct solution to the equation.\n\nQuestion: Solve for a: 4(a + 2) - 3 = 13\nOptions:\na) a = 1\nb) a = 2\nc) a = 3\nd) a = 4\n\nCorrect Option: b) a = 2\n\nExplanation:\nTo solve for a, we first distribute the 4 to get 4a + 8 - 3 = 13. Then, we combine like terms on both sides to get 4a + 5 = 13. Next, we undo the addition by subtracting 5 from both sides. This gives us 4a = 8. Finally, we undo the multiplication by dividing both sides by 4. This gives us a = 2.\n\nIncorrect Answers:\na) This is not the correct solution to the equation.\nc) This is not the correct solution to the equation.\nd) This is not the correct solution to the equation.\n"
                }
            ],
            "execution_count": 71
        },
        {
            "cell_type": "markdown",
            "source": [
                "We can clearly see that most of the answers provided are incorrect. But you can see that it generates the right answer during explanation. Let's try COT and see if we can get better responses."
            ],
            "metadata": {
                "id": "WasfePNTLiKP",
                "azdata_cell_guid": "dea6ac45-0d28-4970-8db7-2050e77bd664"
            }
        },
        {
            "cell_type": "markdown",
            "source": [
                "An LLM can be made to \"think\" in steps by making small changes to the prompt. The general way of achieving that is by adding the line \"think in steps\" to the prompt.\n",
                "Let me show you a small change in our curren prompt which has the same effect. It forces the llm to think first and answer later."
            ],
            "metadata": {
                "id": "J4leuq5dZErZ",
                "azdata_cell_guid": "c58dabe9-e374-4364-9e24-6345eb4e9cc8"
            }
        },
        {
            "cell_type": "markdown",
            "source": [
                "Placing the explanation before the correct option in the prompt is intended to prompt the LLM Model to engage in a more thoughtful process when formulating its response. Rather than immediately providing an answer, this approach encourages the model to approach the problem by breaking it down into simpler sub-problems. By doing so, it is more probable that the model will find answers to these sub-problems within its training data, thereby increasing the likelihood of accurate responses. Subsequently, the model can build upon the solutions obtained from these sub-problems to address the entire problem effectively."
            ],
            "metadata": {
                "id": "yyGP3bCOM5f5",
                "azdata_cell_guid": "fc1dce82-9835-4cdb-894d-1946c53528ec"
            }
        },
        {
            "cell_type": "code",
            "source": [
                "quiz_input = \"\"\"Task: Generate a mcq quiz on the teaching material mentioned above.\n",
                "\n",
                "\n",
                "Output Format:\n",
                "Use the following format for each question:\n",
                "\n",
                "Question: [QUESTION TEXT]\n",
                "Options:\n",
                "a) [OPTION A]\n",
                "b) [OPTION B]\n",
                "c) [OPTION C]\n",
                "d) [OPTION D]\n",
                "\n",
                "Explanation:\n",
                "[EXPLANATION FOR CORRECT ANSWER]\n",
                "\n",
                "Correct Option: [Correct Option]\n",
                "\n",
                "Incorrect Answers:\n",
                "a) [EXPLANATION FOR OPTION A BEING CORRECT/INCORRECT]\n",
                "b) [EXPLANATION FOR OPTION B BEING CORRECT/INCORRECT]\n",
                "c) [EXPLANATION FOR OPTION C BEING CORRECT/INCORRECT]\n",
                "d) [EXPLANATION FOR OPTION D BEING CORRECT/INCORRECT]\n",
                "\n",
                "\"\"\""
            ],
            "metadata": {
                "id": "gXS-onI2MJDu",
                "azdata_cell_guid": "c890ec34-d30f-48ad-bc47-4f4ab9f0f7bd",
                "language": "python"
            },
            "outputs": [],
            "execution_count": 72
        },
        {
            "cell_type": "code",
            "source": [
                "user_input = \"\"\"\n",
                "**Lesson Material:**\n",
                "\n",
                "solving two-step equations\"\"\""
            ],
            "metadata": {
                "id": "vgXkkKG5MJEO",
                "azdata_cell_guid": "6a729baa-a9cf-496b-928a-0e5e744070d1",
                "language": "python"
            },
            "outputs": [],
            "execution_count": 73
        },
        {
            "cell_type": "code",
            "source": [
                "messages = [{\"role\":\"user\",\"content\":user_input+quiz_input}]"
            ],
            "metadata": {
                "id": "TPxKygtWMJEO",
                "azdata_cell_guid": "4f48d798-f67c-41b1-80a2-49fe27357ff2",
                "language": "python"
            },
            "outputs": [],
            "execution_count": 74
        },
        {
            "cell_type": "code",
            "source": [
                "response = client.chat.completions.create(\n",
                "    messages = messages,\n",
                "    model = CHATGPT_MODEL,\n",
                "    temperature=0,\n",
                "    top_p = 0.2\n",
                ")"
            ],
            "metadata": {
                "id": "bx6-Kj-cMJEO",
                "azdata_cell_guid": "0be2bcb4-9be4-4eb6-9607-d1e3d86135e0",
                "language": "python"
            },
            "outputs": [],
            "execution_count": 75
        },
        {
            "cell_type": "code",
            "source": [
                "print(response.choices[0].message.content)"
            ],
            "metadata": {
                "colab": {
                    "base_uri": "https://localhost:8080/"
                },
                "id": "Mrjqew5XMJEO",
                "outputId": "7da277a8-0643-4108-af3e-6936fe2eabac",
                "azdata_cell_guid": "5c23b688-6c76-425a-aa6b-ebd18862e902",
                "language": "python"
            },
            "outputs": [
                {
                    "output_type": "stream",
                    "name": "stdout",
                    "text": "Question: What is the first step in solving a two-step equation?\nOptions:\na) Add or subtract the constant term\nb) Multiply or divide the variable term\nc) Combine like terms\nd) None of the above\n\nExplanation: The first step in solving a two-step equation is to undo the addition or subtraction by performing the opposite operation.\n\nCorrect Option: a\n\nIncorrect Answers:\nb) Multiplying or dividing the variable term is the second step in solving a two-step equation.\nc) Combining like terms is not necessary in solving a two-step equation.\nd) None of the above is incorrect as there is a specific first step in solving a two-step equation.\n\nQuestion: Solve for x: 3x + 5 = 14\nOptions:\na) x = 3\nb) x = 4\nc) x = 9\nd) x = 11\n\nExplanation: The first step is to undo the addition by subtracting 5 from both sides. This gives 3x = 9. The second step is to undo the multiplication by dividing both sides by 3. This gives x = 3.\n\nCorrect Option: a\n\nIncorrect Answers:\nb) This is not the correct solution.\nc) This is not the correct solution.\nd) This is not the correct solution.\n\nQuestion: Solve for y: 2(y - 3) = 10\nOptions:\na) y = 2\nb) y = 5\nc) y = 8\nd) y = 13\n\nExplanation: The first step is to distribute the 2, which gives 2y - 6 = 10. The second step is to undo the subtraction by adding 6 to both sides. This gives 2y = 16. The third step is to undo the multiplication by dividing both sides by 2. This gives y = 8.\n\nCorrect Option: c\n\nIncorrect Answers:\na) This is not the correct solution.\nb) This is not the correct solution.\nd) This is not the correct solution.\n\nQuestion: Solve for z: 4z - 7 = 5z + 3\nOptions:\na) z = -10\nb) z = -4\nc) z = 2\nd) z = 10\n\nExplanation: The first step is to undo the variable term on one side of the equation. Subtracting 4z from both sides gives -7 = z + 3. The second step is to undo the addition by subtracting 3 from both sides. This gives -10 = z.\n\nCorrect Option: a\n\nIncorrect Answers:\nb) This is not the correct solution.\nc) This is not the correct solution.\nd) This is not the correct solution.\n\nQuestion: Solve for w: 2w + 3 = 7w - 5\nOptions:\na) w = 2\nb) w = 4\nc) w = 3\nd) w = 8\n\nExplanation: The first step is to undo the variable term on one side of the equation. Subtracting 2w from both sides gives 3 = 5w - 5. The second step is to undo the subtraction by adding 5 to both sides. This gives 8 = 5w. The third step is to undo the multiplication by dividing both sides by 5. This gives w = 8/5 or 1.6.\n\nCorrect Option: d\n\nIncorrect Answers:\na) This is not the correct solution.\nb) This is not the correct solution.\nc) This is not the correct solution.\n"
                }
            ],
            "execution_count": 76
        },
        {
            "cell_type": "markdown",
            "source": [
                "\n",
                "\n",
                "---\n",
                "\n",
                "\n",
                "The answers are much more accurate.\n",
                "\n",
                "\n",
                "---\n",
                "\n"
            ],
            "metadata": {
                "id": "6gye5RfiYYuO",
                "azdata_cell_guid": "a02c7788-6525-4ab3-8d96-d5841c3ade57"
            }
        },
        {
            "cell_type": "markdown",
            "source": [
                "### 4.2 COT"
            ],
            "metadata": {
                "id": "pvzyyWzZJiWB",
                "azdata_cell_guid": "8c332d90-2ebc-4fef-9047-73c38b3555df"
            }
        },
        {
            "cell_type": "markdown",
            "source": [
                "Let's try a more standard CoT approach and let's ask the model to 'think through the problem and explain its answer' without doing the trick with explanation and let's see how good that approach is."
            ],
            "metadata": {
                "id": "suoinHQlvtcH",
                "azdata_cell_guid": "f232a89c-a3b3-4abd-b5ac-0f530f2f682a"
            }
        },
        {
            "cell_type": "code",
            "source": [
                "quiz_input = \"\"\"Think through and explain your answer\n",
                "Task: Generate a mcq quiz with 10 questions on the teaching material mentioned above.\n",
                "\n",
                "Output Format:\n",
                "Use the following format for each question:\n",
                "\n",
                "Question: [QUESTION TEXT]\n",
                "Options:\n",
                "a) [OPTION A]\n",
                "b) [OPTION B]\n",
                "c) [OPTION C]\n",
                "d) [OPTION D]\n",
                "\n",
                "Correct Option: [Correct Option]\n",
                "\n",
                "Explanation:\n",
                "[EXPLANATION FOR CORRECT ANSWER]\n",
                "\n",
                "Incorrect Answers:\n",
                "a) [EXPLANATION FOR OPTION A BEING CORRECT/INCORRECT]\n",
                "b) [EXPLANATION FOR OPTION B BEING CORRECT/INCORRECT]\n",
                "c) [EXPLANATION FOR OPTION C BEING CORRECT/INCORRECT]\n",
                "d) [EXPLANATION FOR OPTION D BEING CORRECT/INCORRECT]\n",
                "\n",
                "\"\"\""
            ],
            "metadata": {
                "id": "6ya7XD9_JiWC",
                "azdata_cell_guid": "485e7d33-453f-47b8-bf5c-ba53a2c0550d",
                "language": "python"
            },
            "outputs": [],
            "execution_count": 77
        },
        {
            "cell_type": "code",
            "source": [
                "user_input = \"\"\"\n",
                "**Lesson Material:**\n",
                "\n",
                "solving two-step equations\"\"\""
            ],
            "metadata": {
                "id": "1y7hwYMgJiWC",
                "azdata_cell_guid": "e7b2d305-05c1-4da4-b82c-3635d1bf2998",
                "language": "python"
            },
            "outputs": [],
            "execution_count": 78
        },
        {
            "cell_type": "code",
            "source": [
                "messages = [{\"role\":\"user\",\"content\":user_input+quiz_input}]"
            ],
            "metadata": {
                "id": "brJ-rF7ZJiWD",
                "azdata_cell_guid": "e46d5f16-7324-421b-95a9-4a94a181f17e",
                "language": "python"
            },
            "outputs": [],
            "execution_count": 79
        },
        {
            "cell_type": "code",
            "source": [
                "response = client.chat.completions.create(\n",
                "    messages = messages,\n",
                "    model = CHATGPT_MODEL,\n",
                "    temperature=0.2\n",
                ")"
            ],
            "metadata": {
                "id": "9sxwCFBSJiWD",
                "azdata_cell_guid": "8c3267a8-db87-45e3-8ef4-9c75fe32efe9",
                "language": "python"
            },
            "outputs": [],
            "execution_count": 80
        },
        {
            "cell_type": "code",
            "source": [
                "print(response.choices[0].message.content)"
            ],
            "metadata": {
                "colab": {
                    "base_uri": "https://localhost:8080/"
                },
                "id": "lSiBcmKEJiWD",
                "outputId": "fde6421c-3251-4acb-be90-e0be27901d5f",
                "azdata_cell_guid": "aab802a2-8491-4a28-b92b-6358fe0cc92f",
                "language": "python"
            },
            "outputs": [
                {
                    "output_type": "stream",
                    "name": "stdout",
                    "text": "Question: What is the first step in solving a two-step equation?\nOptions:\na) Add or subtract the constant term\nb) Multiply or divide the variable term\nc) Combine like terms\nd) None of the above\n\nCorrect Option: b) Multiply or divide the variable term\n\nExplanation:\nThe first step in solving a two-step equation is to undo the operation that is being performed on the variable term. If the variable term is being multiplied or divided, then the opposite operation (division or multiplication) should be performed to isolate the variable.\n\nIncorrect Answers:\na) Adding or subtracting the constant term is the second step in solving a two-step equation.\nc) Combining like terms is not necessary in solving a two-step equation.\nd) None of the above is incorrect as there is a specific first step in solving a two-step equation.\n\nQuestion: Solve for x: 3x + 5 = 14\nOptions:\na) x = 3\nb) x = 4\nc) x = 9\nd) x = 11\n\nCorrect Option: b) x = 4\n\nExplanation:\nTo solve this equation, we need to undo the addition of 5 to the variable term by subtracting 5 from both sides. This gives us 3x = 9. Then, we need to undo the multiplication of 3 to the variable term by dividing both sides by 3. This gives us x = 3.\n\nIncorrect Answers:\na) This is not the correct solution to the equation.\nc) This is not the correct solution to the equation.\nd) This is not the correct solution to the equation.\n\nQuestion: Solve for x: 2x - 7 = 11\nOptions:\na) x = 4\nb) x = 9\nc) x = 18\nd) x = 24\n\nCorrect Option: b) x = 9\n\nExplanation:\nTo solve this equation, we need to undo the subtraction of 7 from the variable term by adding 7 to both sides. This gives us 2x = 18. Then, we need to undo the multiplication of 2 to the variable term by dividing both sides by 2. This gives us x = 9.\n\nIncorrect Answers:\na) This is not the correct solution to the equation.\nc) This is not the correct solution to the equation.\nd) This is not the correct solution to the equation.\n\nQuestion: Solve for x: 5x - 3 = 22\nOptions:\na) x = 3\nb) x = 5\nc) x = 6\nd) x = 7\n\nCorrect Option: c) x = 6\n\nExplanation:\nTo solve this equation, we need to undo the subtraction of 3 from the variable term by adding 3 to both sides. This gives us 5x = 25. Then, we need to undo the multiplication of 5 to the variable term by dividing both sides by 5. This gives us x = 5.\n\nIncorrect Answers:\na) This is not the correct solution to the equation.\nb) This is not the correct solution to the equation.\nd) This is not the correct solution to the equation.\n\nQuestion: Solve for x: 4(x - 3) = 20\nOptions:\na) x = 2\nb) x = 5\nc) x = 7\nd) x = 8\n\nCorrect Option: b) x = 5\n\nExplanation:\nTo solve this equation, we need to distribute the 4 to the expression inside the parentheses. This gives us 4x - 12 = 20. Then, we need to undo the subtraction of 12 from the variable term by adding 12 to both sides. This gives us 4x = 32. Finally, we need to undo the multiplication of 4 to the variable term by dividing both sides by 4. This gives us x = 8.\n\nIncorrect Answers:\na) This is not the correct solution to the equation.\nc) This is not the correct solution to the equation.\nd) This is not the correct solution to the equation.\n\nQuestion: Solve for x: 2(x + 5) - 3x = 13\nOptions:\na) x = -3\nb) x = 2\nc) x = 3\nd) x = 8\n\nCorrect Option: c) x = 3\n\nExplanation:\nTo solve this equation, we need to distribute the 2 to the expression inside the parentheses. This gives us 2x + 10 - 3x = 13. Then, we need to combine like terms by subtracting 10 from both sides. This gives us -x = 3. Finally, we need to divide both sides by -1 to isolate the variable. This gives us x = -3.\n\nIncorrect Answers:\na) This is not the correct solution to the equation.\nb) This is not the correct solution to the equation.\nd) This is not the correct solution to the equation.\n\nQuestion: Solve for x: 7 - 3x = 16\nOptions:\na) x = -3\nb) x = -3.5\nc) x = 3\nd) x = 3.5\n\nCorrect Option: a) x = -3\n\nExplanation:\nTo solve this equation, we need to undo the subtraction of 7 from the variable term by subtracting 7 from both sides. This gives us -3x = 9. Then, we need to undo the multiplication of -3 to the variable term by dividing both sides by -3. This gives us x = -3.\n\nIncorrect Answers:\nb) This is not the correct solution to the equation.\nc) This is not the correct solution to the equation.\nd) This is not the correct solution to the equation.\n\nQuestion: Solve for x: 4x + 8 = 20 - 2x\nOptions:\na) x = 2\nb) x = 3\nc) x = 4\nd) x = 5\n\nCorrect Option: c) x = 4\n\nExplanation:\nTo solve this equation, we need to undo the subtraction of -2x from the variable term by adding 2x to both sides. This gives us 6x + 8 = 20. Then, we need to undo the addition of 8 to the variable term by subtracting 8 from both sides. This gives us 6x = 12. Finally, we need to divide both sides by 6 to isolate the variable. This gives us x = 2.\n\nIncorrect Answers:\na) This is not the correct solution to the equation.\nb) This is not the correct solution to the equation.\nd) This is not the correct solution to the equation.\n\nQuestion: Solve for x: 3(x - 4) + 2 = 11\nOptions:\na) x = 3\nb) x = 5\nc) x = 6\nd) x = 7\n\nCorrect Option: b) x = 5\n\nExplanation:\nTo solve this equation, we need to distribute the 3 to the expression inside the parentheses. This gives us 3x - 12 + 2 = 11. Then, we need to combine like terms by adding 12 and 2. This gives us 3x = 21. Finally, we need to divide both sides by 3 to isolate the variable. This gives us x = 7.\n\nIncorrect Answers:\na) This is not the correct solution to the equation.\nc) This is not the correct solution to the equation.\nd) This is not the correct solution to the equation.\n\nQuestion: Solve for x: 2x + 5 = 3(x - 1)\nOptions:\na) x = 2\nb) x = 3\nc) x = 4\nd) x = 5\n\nCorrect Option: b) x = 3\n\nExplanation:\nTo solve this equation, we need to distribute the 3 to the expression inside the parentheses. This gives us 2x + 5 = 3x - 3. Then, we need to undo the subtraction of 2x from the variable term by subtracting 2x from both sides. This gives us 5 = x - 3. Finally, we need to undo the subtraction of -3 from the variable term by adding 3 to both sides. This gives us x = 8.\n\nIncorrect Answers:\na) This is not the correct solution to the equation.\nc) This is not the correct solution to the equation.\nd) This is not the correct solution to the equation. \n\nQuestion: Solve for x: 6x - 4 = 2(x + 3)\nOptions:\na) x = -1\nb) x = 0\nc) x = 1\nd) x = 2\n\nCorrect Option: c) x = 1\n\nExplanation:\nTo solve this equation, we need to distribute the 2 to the expression inside the parentheses. This gives us 6x - 4 = 2x + 6. Then, we need to undo the subtraction of 2x from the variable term by subtracting 2x from both sides. This gives us 4x - 4 = 6. Finally, we need to undo the subtraction of -4 from the variable term by adding 4 to both sides. This gives us x = 1.\n\nIncorrect Answers:\na) This is not the correct solution to the equation.\nb) This is not the correct solution to the equation.\nd) This is not the correct solution to the equation.\n"
                }
            ],
            "execution_count": 81
        },
        {
            "cell_type": "markdown",
            "source": [
                "It is as bad as a zero-prompt before switching the explanation and correct option placement. We can see that the simple trick of placing explanation above correct answer works much better than a standard CoT trick. This illustrates that prompt engineering is an emperical field and experimentation is the only way to find the best prompt."
            ],
            "metadata": {
                "id": "GT73rIJ4czXi",
                "azdata_cell_guid": "35463fab-ef03-4e60-8566-b27b7b40523b"
            }
        },
        {
            "cell_type": "markdown",
            "source": [
                "\n",
                "Upon repeated attempts at this exercise, you'll find that regardless of the quality of the prompt, language models (LLMs) will inevitably produce incorrect responses. This is because LLMs operate probabilistically and aren't designed for precise calculations. While some LLMs tailored for math might perform better, there's no guarantee of always getting the right answer.\n",
                "\n",
                "The only reliable method for accurate responses from LLMs is to utilize agents that go beyond what we cover in this course. These agents represent the most suitable LLM technology for such tasks."
            ],
            "metadata": {
                "id": "n9XxqzbcOiCL",
                "azdata_cell_guid": "0891f04d-323e-4331-a0f7-f8998e51f4db"
            }
        },
        {
            "cell_type": "markdown",
            "source": [
                "**Power Ahead!**"
            ],
            "metadata": {
                "id": "MxumbLo_0CPf",
                "azdata_cell_guid": "6a33f791-f312-4bf6-aedd-66cfe04a28a5"
            }
        }
    ]
}